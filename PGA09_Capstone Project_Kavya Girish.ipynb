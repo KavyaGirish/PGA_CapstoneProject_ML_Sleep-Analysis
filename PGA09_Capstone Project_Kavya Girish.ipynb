{
 "cells": [
  {
   "attachments": {
    "Title-SleepDisorder-2.png": {
     "image/png": "[encoded data removed]"
    }
   },
   "cell_type": "markdown",
   "id": "a8c67a28",
   "metadata": {},
   "source": [
    "![Title-SleepDisorder-2.png](attachment:Title-SleepDisorder-2.png)"
   ]
  },
  {
   "cell_type": "markdown",
   "id": "fadea942",
   "metadata": {},
   "source": [
    "## Problem Statement:\n",
    "\n",
    "Predict the occurrence of Sleep Disorders such as Insomnia and Sleep Apnea"
   ]
  },
  {
   "cell_type": "markdown",
   "id": "09e3df97",
   "metadata": {},
   "source": [
    "## Data Definition:\n",
    "\n",
    "1. Person ID: Unique identifier for each person\n",
    "2. Gender: Gender of the person (Male/Female)\n",
    "3. Age: Age of the person in years\n",
    "4. Occupation: Occupation of the person\n",
    "5. Sleep Duration: Number of hours the person sleeps per day\n",
    "6. Quality of Sleep: Rating of Quality of sleep (Range: 1 to 10)\n",
    "7. Physical Activity Level: Duration (minutes) of person engaging in physical activity every day\n",
    "8. Stress Level: Rating of Stress level experienced by the person (Range: 1 to 10)\n",
    "9. BMI Category: BMI category of the person (Obsese/ Normal/ Overweight)\n",
    "10. Blood Pressure: Blood pressure measure of person (Systole/ Diastole)\n",
    "11. Heart Rate (bpm): Resting Heart rate of person (beats per minute)\n",
    "12. Daily Steps: Number of steps taken by the person per day\n",
    "13. Sleep Disorder: Presence/ Absence of Sleep disorder in person (None, Insomnia, Sleep Apnea)"
   ]
  },
  {
   "cell_type": "markdown",
   "id": "584ebb69",
   "metadata": {},
   "source": [
    "## Overview of 'Sleep Disorder' variable:\n",
    "\n",
    "* None: Person does not exhibit any specific sleep disorder\n",
    "* Insomnia: Person experiences difficulty falling asleep or staying asleep, leading to inadequate or poor-quality sleep\n",
    "* Sleep Apnea: Person suffers from pauses in breathing during sleep, resulting in disrupted sleep patterns and potential health risks."
   ]
  },
  {
   "cell_type": "markdown",
   "id": "f65f5ef5",
   "metadata": {},
   "source": [
    "1. Import Libraries\n",
    "2. Read the Data\n",
    "3. Data Preprocessing\n",
    "    3.1 Datatypes & Dimension of data\n",
    "    3.2 Statistical Summary\n",
    "    3.3 Missing Data Analysis\n",
    "    3.4 Label Encoding for Categorical variables\n",
    "4. Exploratory Data Analysis\n",
    "    4.1 Class Distribution of Target Variables\n",
    "    4.2 Multivariate Analysis\n",
    "5. Correlation \n",
    "6. Data Standardization\n",
    "7. Creation of Train & Test Dataset\n",
    "8. Model Building (Classification)\n",
    "    8.1 Model-1: Bagging Meta- Estimator\n",
    "    8.2 Model-2: AdaBoost\n",
    "    8.3 Model-3: XGBoost\n",
    "    8.4 Model-4: Naive Bayes\n",
    "    8.5 Model-5: RandomForest\n",
    "9. Model Comparison\n",
    "10. Conclusion\n"
   ]
  },
  {
   "cell_type": "markdown",
   "id": "d90cb8e5",
   "metadata": {},
   "source": [
    "## 1. Import Libraries:"
   ]
  },
  {
   "cell_type": "code",
   "execution_count": 136,
   "id": "13bb9591",
   "metadata": {},
   "outputs": [
    {
     "name": "stdout",
     "output_type": "stream",
     "text": [
      "Requirement already satisfied: xgboost in c:\\users\\kavya\\anaconda3\\lib\\site-packages (1.7.6)\n",
      "Requirement already satisfied: scipy in c:\\users\\kavya\\anaconda3\\lib\\site-packages (from xgboost) (1.7.3)\n",
      "Requirement already satisfied: numpy in c:\\users\\kavya\\anaconda3\\lib\\site-packages (from xgboost) (1.21.5)\n"
     ]
    }
   ],
   "source": [
    "# Suppress display of warnings\n",
    "import warnings\n",
    "warnings.filterwarnings(\"ignore\")\n",
    "\n",
    "# 'Data manipulation and analysis\n",
    "import pandas as pd\n",
    "\n",
    "# Mathematical operations on large, multi-dimensional arrays and matrices\n",
    "import numpy as np\n",
    "\n",
    "# Data visualization library for 2D and 3D plots (built on numpy)\n",
    "import matplotlib.pyplot as plt\n",
    "\n",
    "# Plot statistical graphics (based on matplotlib)\n",
    "import seaborn as sns\n",
    "\n",
    "# Set default setting of seaborn\n",
    "sns.set()\n",
    "\n",
    "# Label Encoding\n",
    "from sklearn.preprocessing import LabelEncoder\n",
    "\n",
    "# Data Standardization\n",
    "from sklearn.preprocessing import MinMaxScaler\n",
    "\n",
    "# Split Dataset\n",
    "from sklearn.model_selection import train_test_split\n",
    "\n",
    "from sklearn import metrics\n",
    "\n",
    "# Confusion Matrix\n",
    "from sklearn.metrics import confusion_matrix\n",
    "\n",
    "# Classification Report\n",
    "from sklearn.metrics import classification_report\n",
    "\n",
    "# Bagging Meta-Estimator model\n",
    "from sklearn.ensemble import BaggingClassifier\n",
    "from sklearn import tree\n",
    "\n",
    "# AdaBoost model\n",
    "from sklearn.ensemble import AdaBoostClassifier\n",
    "\n",
    "# XGBoost model\n",
    "!pip install xgboost\n",
    "from xgboost.sklearn import XGBClassifier\n",
    "\n",
    "# Naive Bayes model\n",
    "from sklearn.naive_bayes import GaussianNB\n",
    "from sklearn.multiclass import OneVsRestClassifier\n",
    "\n",
    "# RandomForest model\n",
    "from sklearn.ensemble import RandomForestClassifier"
   ]
  },
  {
   "cell_type": "markdown",
   "id": "983b3cd3",
   "metadata": {},
   "source": [
    "## 2. Read the Data"
   ]
  },
  {
   "cell_type": "code",
   "execution_count": 45,
   "id": "211cdaae",
   "metadata": {},
   "outputs": [
    {
     "data": {
      "text/html": [
       "<div>\n",
       "<style scoped>\n",
       "    .dataframe tbody tr th:only-of-type {\n",
       "        vertical-align: middle;\n",
       "    }\n",
       "\n",
       "    .dataframe tbody tr th {\n",
       "        vertical-align: top;\n",
       "    }\n",
       "\n",
       "    .dataframe thead th {\n",
       "        text-align: right;\n",
       "    }\n",
       "</style>\n",
       "<table border=\"1\" class=\"dataframe\">\n",
       "  <thead>\n",
       "    <tr style=\"text-align: right;\">\n",
       "      <th></th>\n",
       "      <th>Person ID</th>\n",
       "      <th>Gender</th>\n",
       "      <th>Age</th>\n",
       "      <th>Occupation</th>\n",
       "      <th>Sleep Duration</th>\n",
       "      <th>Quality of Sleep</th>\n",
       "      <th>Physical Activity Level</th>\n",
       "      <th>Stress Level</th>\n",
       "      <th>BMI Category</th>\n",
       "      <th>Blood Pressure</th>\n",
       "      <th>Heart Rate</th>\n",
       "      <th>Daily Steps</th>\n",
       "      <th>Sleep Disorder</th>\n",
       "    </tr>\n",
       "  </thead>\n",
       "  <tbody>\n",
       "    <tr>\n",
       "      <th>0</th>\n",
       "      <td>1</td>\n",
       "      <td>Male</td>\n",
       "      <td>27</td>\n",
       "      <td>Software Engineer</td>\n",
       "      <td>6.1</td>\n",
       "      <td>6</td>\n",
       "      <td>42</td>\n",
       "      <td>6</td>\n",
       "      <td>Overweight</td>\n",
       "      <td>126/83</td>\n",
       "      <td>77</td>\n",
       "      <td>4200</td>\n",
       "      <td>None</td>\n",
       "    </tr>\n",
       "    <tr>\n",
       "      <th>1</th>\n",
       "      <td>2</td>\n",
       "      <td>Male</td>\n",
       "      <td>28</td>\n",
       "      <td>Doctor</td>\n",
       "      <td>6.2</td>\n",
       "      <td>6</td>\n",
       "      <td>60</td>\n",
       "      <td>8</td>\n",
       "      <td>Normal</td>\n",
       "      <td>125/80</td>\n",
       "      <td>75</td>\n",
       "      <td>10000</td>\n",
       "      <td>None</td>\n",
       "    </tr>\n",
       "    <tr>\n",
       "      <th>2</th>\n",
       "      <td>3</td>\n",
       "      <td>Male</td>\n",
       "      <td>28</td>\n",
       "      <td>Doctor</td>\n",
       "      <td>6.2</td>\n",
       "      <td>6</td>\n",
       "      <td>60</td>\n",
       "      <td>8</td>\n",
       "      <td>Normal</td>\n",
       "      <td>125/80</td>\n",
       "      <td>75</td>\n",
       "      <td>10000</td>\n",
       "      <td>None</td>\n",
       "    </tr>\n",
       "    <tr>\n",
       "      <th>3</th>\n",
       "      <td>4</td>\n",
       "      <td>Male</td>\n",
       "      <td>28</td>\n",
       "      <td>Sales Representative</td>\n",
       "      <td>5.9</td>\n",
       "      <td>4</td>\n",
       "      <td>30</td>\n",
       "      <td>8</td>\n",
       "      <td>Obese</td>\n",
       "      <td>140/90</td>\n",
       "      <td>85</td>\n",
       "      <td>3000</td>\n",
       "      <td>Sleep Apnea</td>\n",
       "    </tr>\n",
       "    <tr>\n",
       "      <th>4</th>\n",
       "      <td>5</td>\n",
       "      <td>Male</td>\n",
       "      <td>28</td>\n",
       "      <td>Sales Representative</td>\n",
       "      <td>5.9</td>\n",
       "      <td>4</td>\n",
       "      <td>30</td>\n",
       "      <td>8</td>\n",
       "      <td>Obese</td>\n",
       "      <td>140/90</td>\n",
       "      <td>85</td>\n",
       "      <td>3000</td>\n",
       "      <td>Sleep Apnea</td>\n",
       "    </tr>\n",
       "    <tr>\n",
       "      <th>5</th>\n",
       "      <td>6</td>\n",
       "      <td>Male</td>\n",
       "      <td>28</td>\n",
       "      <td>Software Engineer</td>\n",
       "      <td>5.9</td>\n",
       "      <td>4</td>\n",
       "      <td>30</td>\n",
       "      <td>8</td>\n",
       "      <td>Obese</td>\n",
       "      <td>140/90</td>\n",
       "      <td>85</td>\n",
       "      <td>3000</td>\n",
       "      <td>Insomnia</td>\n",
       "    </tr>\n",
       "    <tr>\n",
       "      <th>6</th>\n",
       "      <td>7</td>\n",
       "      <td>Male</td>\n",
       "      <td>29</td>\n",
       "      <td>Teacher</td>\n",
       "      <td>6.3</td>\n",
       "      <td>6</td>\n",
       "      <td>40</td>\n",
       "      <td>7</td>\n",
       "      <td>Obese</td>\n",
       "      <td>140/90</td>\n",
       "      <td>82</td>\n",
       "      <td>3500</td>\n",
       "      <td>Insomnia</td>\n",
       "    </tr>\n",
       "    <tr>\n",
       "      <th>7</th>\n",
       "      <td>8</td>\n",
       "      <td>Male</td>\n",
       "      <td>29</td>\n",
       "      <td>Doctor</td>\n",
       "      <td>7.8</td>\n",
       "      <td>7</td>\n",
       "      <td>75</td>\n",
       "      <td>6</td>\n",
       "      <td>Normal</td>\n",
       "      <td>120/80</td>\n",
       "      <td>70</td>\n",
       "      <td>8000</td>\n",
       "      <td>None</td>\n",
       "    </tr>\n",
       "    <tr>\n",
       "      <th>8</th>\n",
       "      <td>9</td>\n",
       "      <td>Male</td>\n",
       "      <td>29</td>\n",
       "      <td>Doctor</td>\n",
       "      <td>7.8</td>\n",
       "      <td>7</td>\n",
       "      <td>75</td>\n",
       "      <td>6</td>\n",
       "      <td>Normal</td>\n",
       "      <td>120/80</td>\n",
       "      <td>70</td>\n",
       "      <td>8000</td>\n",
       "      <td>None</td>\n",
       "    </tr>\n",
       "    <tr>\n",
       "      <th>9</th>\n",
       "      <td>10</td>\n",
       "      <td>Male</td>\n",
       "      <td>29</td>\n",
       "      <td>Doctor</td>\n",
       "      <td>7.8</td>\n",
       "      <td>7</td>\n",
       "      <td>75</td>\n",
       "      <td>6</td>\n",
       "      <td>Normal</td>\n",
       "      <td>120/80</td>\n",
       "      <td>70</td>\n",
       "      <td>8000</td>\n",
       "      <td>None</td>\n",
       "    </tr>\n",
       "  </tbody>\n",
       "</table>\n",
       "</div>"
      ],
      "text/plain": [
       "   Person ID Gender  Age            Occupation  Sleep Duration  \\\n",
       "0          1   Male   27     Software Engineer             6.1   \n",
       "1          2   Male   28                Doctor             6.2   \n",
       "2          3   Male   28                Doctor             6.2   \n",
       "3          4   Male   28  Sales Representative             5.9   \n",
       "4          5   Male   28  Sales Representative             5.9   \n",
       "5          6   Male   28     Software Engineer             5.9   \n",
       "6          7   Male   29               Teacher             6.3   \n",
       "7          8   Male   29                Doctor             7.8   \n",
       "8          9   Male   29                Doctor             7.8   \n",
       "9         10   Male   29                Doctor             7.8   \n",
       "\n",
       "   Quality of Sleep  Physical Activity Level  Stress Level BMI Category  \\\n",
       "0                 6                       42             6   Overweight   \n",
       "1                 6                       60             8       Normal   \n",
       "2                 6                       60             8       Normal   \n",
       "3                 4                       30             8        Obese   \n",
       "4                 4                       30             8        Obese   \n",
       "5                 4                       30             8        Obese   \n",
       "6                 6                       40             7        Obese   \n",
       "7                 7                       75             6       Normal   \n",
       "8                 7                       75             6       Normal   \n",
       "9                 7                       75             6       Normal   \n",
       "\n",
       "  Blood Pressure  Heart Rate  Daily Steps Sleep Disorder  \n",
       "0         126/83          77         4200           None  \n",
       "1         125/80          75        10000           None  \n",
       "2         125/80          75        10000           None  \n",
       "3         140/90          85         3000    Sleep Apnea  \n",
       "4         140/90          85         3000    Sleep Apnea  \n",
       "5         140/90          85         3000       Insomnia  \n",
       "6         140/90          82         3500       Insomnia  \n",
       "7         120/80          70         8000           None  \n",
       "8         120/80          70         8000           None  \n",
       "9         120/80          70         8000           None  "
      ]
     },
     "execution_count": 45,
     "metadata": {},
     "output_type": "execute_result"
    }
   ],
   "source": [
    "raw_data = pd.read_csv(r'D:\\PGA_DataAnalytics_MachineLearning\\Capstone projects\\ML\\Sleep_health_and_lifestyle_dataset.csv')\n",
    "raw_data.head(10)"
   ]
  },
  {
   "cell_type": "code",
   "execution_count": 20,
   "id": "ad62db7d",
   "metadata": {},
   "outputs": [],
   "source": [
    "data = raw_data.copy(deep = True)"
   ]
  },
  {
   "cell_type": "markdown",
   "id": "4d5b9820",
   "metadata": {},
   "source": [
    "## 3. Data Preprocessing"
   ]
  },
  {
   "cell_type": "markdown",
   "id": "aaf632fa",
   "metadata": {},
   "source": [
    "## 3.1 Datatypes & Dimension of data"
   ]
  },
  {
   "cell_type": "code",
   "execution_count": 21,
   "id": "f32a3e66",
   "metadata": {},
   "outputs": [
    {
     "name": "stdout",
     "output_type": "stream",
     "text": [
      "<class 'pandas.core.frame.DataFrame'>\n",
      "RangeIndex: 374 entries, 0 to 373\n",
      "Data columns (total 13 columns):\n",
      " #   Column                   Non-Null Count  Dtype  \n",
      "---  ------                   --------------  -----  \n",
      " 0   Person ID                374 non-null    int64  \n",
      " 1   Gender                   374 non-null    object \n",
      " 2   Age                      374 non-null    int64  \n",
      " 3   Occupation               374 non-null    object \n",
      " 4   Sleep Duration           374 non-null    float64\n",
      " 5   Quality of Sleep         374 non-null    int64  \n",
      " 6   Physical Activity Level  374 non-null    int64  \n",
      " 7   Stress Level             374 non-null    int64  \n",
      " 8   BMI Category             374 non-null    object \n",
      " 9   Blood Pressure           374 non-null    object \n",
      " 10  Heart Rate               374 non-null    int64  \n",
      " 11  Daily Steps              374 non-null    int64  \n",
      " 12  Sleep Disorder           374 non-null    object \n",
      "dtypes: float64(1), int64(7), object(5)\n",
      "memory usage: 38.1+ KB\n"
     ]
    }
   ],
   "source": [
    "data.info()"
   ]
  },
  {
   "cell_type": "code",
   "execution_count": 22,
   "id": "23a6dd0b",
   "metadata": {},
   "outputs": [
    {
     "data": {
      "text/plain": [
       "(374, 13)"
      ]
     },
     "execution_count": 22,
     "metadata": {},
     "output_type": "execute_result"
    }
   ],
   "source": [
    "data.shape"
   ]
  },
  {
   "cell_type": "code",
   "execution_count": 23,
   "id": "5c3cde32",
   "metadata": {},
   "outputs": [
    {
     "data": {
      "text/plain": [
       "4862"
      ]
     },
     "execution_count": 23,
     "metadata": {},
     "output_type": "execute_result"
    }
   ],
   "source": [
    "data.size"
   ]
  },
  {
   "cell_type": "markdown",
   "id": "07c983e5",
   "metadata": {},
   "source": [
    "## 3.2 Statistical Summary"
   ]
  },
  {
   "cell_type": "markdown",
   "id": "cc44f5d0",
   "metadata": {},
   "source": [
    "### 3.2.1 Numerical Variables"
   ]
  },
  {
   "cell_type": "code",
   "execution_count": 24,
   "id": "76ea1bde",
   "metadata": {},
   "outputs": [
    {
     "data": {
      "text/html": [
       "<div>\n",
       "<style scoped>\n",
       "    .dataframe tbody tr th:only-of-type {\n",
       "        vertical-align: middle;\n",
       "    }\n",
       "\n",
       "    .dataframe tbody tr th {\n",
       "        vertical-align: top;\n",
       "    }\n",
       "\n",
       "    .dataframe thead th {\n",
       "        text-align: right;\n",
       "    }\n",
       "</style>\n",
       "<table border=\"1\" class=\"dataframe\">\n",
       "  <thead>\n",
       "    <tr style=\"text-align: right;\">\n",
       "      <th></th>\n",
       "      <th>Person ID</th>\n",
       "      <th>Age</th>\n",
       "      <th>Sleep Duration</th>\n",
       "      <th>Quality of Sleep</th>\n",
       "      <th>Physical Activity Level</th>\n",
       "      <th>Stress Level</th>\n",
       "      <th>Heart Rate</th>\n",
       "      <th>Daily Steps</th>\n",
       "    </tr>\n",
       "  </thead>\n",
       "  <tbody>\n",
       "    <tr>\n",
       "      <th>count</th>\n",
       "      <td>374.000000</td>\n",
       "      <td>374.000000</td>\n",
       "      <td>374.000000</td>\n",
       "      <td>374.000000</td>\n",
       "      <td>374.000000</td>\n",
       "      <td>374.000000</td>\n",
       "      <td>374.000000</td>\n",
       "      <td>374.000000</td>\n",
       "    </tr>\n",
       "    <tr>\n",
       "      <th>mean</th>\n",
       "      <td>187.500000</td>\n",
       "      <td>42.184492</td>\n",
       "      <td>7.132086</td>\n",
       "      <td>7.312834</td>\n",
       "      <td>59.171123</td>\n",
       "      <td>5.385027</td>\n",
       "      <td>70.165775</td>\n",
       "      <td>6816.844920</td>\n",
       "    </tr>\n",
       "    <tr>\n",
       "      <th>std</th>\n",
       "      <td>108.108742</td>\n",
       "      <td>8.673133</td>\n",
       "      <td>0.795657</td>\n",
       "      <td>1.196956</td>\n",
       "      <td>20.830804</td>\n",
       "      <td>1.774526</td>\n",
       "      <td>4.135676</td>\n",
       "      <td>1617.915679</td>\n",
       "    </tr>\n",
       "    <tr>\n",
       "      <th>min</th>\n",
       "      <td>1.000000</td>\n",
       "      <td>27.000000</td>\n",
       "      <td>5.800000</td>\n",
       "      <td>4.000000</td>\n",
       "      <td>30.000000</td>\n",
       "      <td>3.000000</td>\n",
       "      <td>65.000000</td>\n",
       "      <td>3000.000000</td>\n",
       "    </tr>\n",
       "    <tr>\n",
       "      <th>25%</th>\n",
       "      <td>94.250000</td>\n",
       "      <td>35.250000</td>\n",
       "      <td>6.400000</td>\n",
       "      <td>6.000000</td>\n",
       "      <td>45.000000</td>\n",
       "      <td>4.000000</td>\n",
       "      <td>68.000000</td>\n",
       "      <td>5600.000000</td>\n",
       "    </tr>\n",
       "    <tr>\n",
       "      <th>50%</th>\n",
       "      <td>187.500000</td>\n",
       "      <td>43.000000</td>\n",
       "      <td>7.200000</td>\n",
       "      <td>7.000000</td>\n",
       "      <td>60.000000</td>\n",
       "      <td>5.000000</td>\n",
       "      <td>70.000000</td>\n",
       "      <td>7000.000000</td>\n",
       "    </tr>\n",
       "    <tr>\n",
       "      <th>75%</th>\n",
       "      <td>280.750000</td>\n",
       "      <td>50.000000</td>\n",
       "      <td>7.800000</td>\n",
       "      <td>8.000000</td>\n",
       "      <td>75.000000</td>\n",
       "      <td>7.000000</td>\n",
       "      <td>72.000000</td>\n",
       "      <td>8000.000000</td>\n",
       "    </tr>\n",
       "    <tr>\n",
       "      <th>max</th>\n",
       "      <td>374.000000</td>\n",
       "      <td>59.000000</td>\n",
       "      <td>8.500000</td>\n",
       "      <td>9.000000</td>\n",
       "      <td>90.000000</td>\n",
       "      <td>8.000000</td>\n",
       "      <td>86.000000</td>\n",
       "      <td>10000.000000</td>\n",
       "    </tr>\n",
       "  </tbody>\n",
       "</table>\n",
       "</div>"
      ],
      "text/plain": [
       "        Person ID         Age  Sleep Duration  Quality of Sleep  \\\n",
       "count  374.000000  374.000000      374.000000        374.000000   \n",
       "mean   187.500000   42.184492        7.132086          7.312834   \n",
       "std    108.108742    8.673133        0.795657          1.196956   \n",
       "min      1.000000   27.000000        5.800000          4.000000   \n",
       "25%     94.250000   35.250000        6.400000          6.000000   \n",
       "50%    187.500000   43.000000        7.200000          7.000000   \n",
       "75%    280.750000   50.000000        7.800000          8.000000   \n",
       "max    374.000000   59.000000        8.500000          9.000000   \n",
       "\n",
       "       Physical Activity Level  Stress Level  Heart Rate   Daily Steps  \n",
       "count               374.000000    374.000000  374.000000    374.000000  \n",
       "mean                 59.171123      5.385027   70.165775   6816.844920  \n",
       "std                  20.830804      1.774526    4.135676   1617.915679  \n",
       "min                  30.000000      3.000000   65.000000   3000.000000  \n",
       "25%                  45.000000      4.000000   68.000000   5600.000000  \n",
       "50%                  60.000000      5.000000   70.000000   7000.000000  \n",
       "75%                  75.000000      7.000000   72.000000   8000.000000  \n",
       "max                  90.000000      8.000000   86.000000  10000.000000  "
      ]
     },
     "execution_count": 24,
     "metadata": {},
     "output_type": "execute_result"
    }
   ],
   "source": [
    "data.describe()"
   ]
  },
  {
   "cell_type": "markdown",
   "id": "986985eb",
   "metadata": {},
   "source": [
    "### 3.2.2 Categorical Variables"
   ]
  },
  {
   "cell_type": "code",
   "execution_count": 25,
   "id": "27859128",
   "metadata": {},
   "outputs": [
    {
     "data": {
      "text/html": [
       "<div>\n",
       "<style scoped>\n",
       "    .dataframe tbody tr th:only-of-type {\n",
       "        vertical-align: middle;\n",
       "    }\n",
       "\n",
       "    .dataframe tbody tr th {\n",
       "        vertical-align: top;\n",
       "    }\n",
       "\n",
       "    .dataframe thead th {\n",
       "        text-align: right;\n",
       "    }\n",
       "</style>\n",
       "<table border=\"1\" class=\"dataframe\">\n",
       "  <thead>\n",
       "    <tr style=\"text-align: right;\">\n",
       "      <th></th>\n",
       "      <th>Gender</th>\n",
       "      <th>Occupation</th>\n",
       "      <th>BMI Category</th>\n",
       "      <th>Blood Pressure</th>\n",
       "      <th>Sleep Disorder</th>\n",
       "    </tr>\n",
       "  </thead>\n",
       "  <tbody>\n",
       "    <tr>\n",
       "      <th>count</th>\n",
       "      <td>374</td>\n",
       "      <td>374</td>\n",
       "      <td>374</td>\n",
       "      <td>374</td>\n",
       "      <td>374</td>\n",
       "    </tr>\n",
       "    <tr>\n",
       "      <th>unique</th>\n",
       "      <td>2</td>\n",
       "      <td>11</td>\n",
       "      <td>4</td>\n",
       "      <td>25</td>\n",
       "      <td>3</td>\n",
       "    </tr>\n",
       "    <tr>\n",
       "      <th>top</th>\n",
       "      <td>Male</td>\n",
       "      <td>Nurse</td>\n",
       "      <td>Normal</td>\n",
       "      <td>130/85</td>\n",
       "      <td>None</td>\n",
       "    </tr>\n",
       "    <tr>\n",
       "      <th>freq</th>\n",
       "      <td>189</td>\n",
       "      <td>73</td>\n",
       "      <td>195</td>\n",
       "      <td>99</td>\n",
       "      <td>219</td>\n",
       "    </tr>\n",
       "  </tbody>\n",
       "</table>\n",
       "</div>"
      ],
      "text/plain": [
       "       Gender Occupation BMI Category Blood Pressure Sleep Disorder\n",
       "count     374        374          374            374            374\n",
       "unique      2         11            4             25              3\n",
       "top      Male      Nurse       Normal         130/85           None\n",
       "freq      189         73          195             99            219"
      ]
     },
     "execution_count": 25,
     "metadata": {},
     "output_type": "execute_result"
    }
   ],
   "source": [
    "data.describe(include='object')"
   ]
  },
  {
   "cell_type": "markdown",
   "id": "e50b90bf",
   "metadata": {},
   "source": [
    "## 3.3 Missing Data Analysis"
   ]
  },
  {
   "cell_type": "code",
   "execution_count": 26,
   "id": "5b229b23",
   "metadata": {},
   "outputs": [
    {
     "data": {
      "text/plain": [
       "Person ID                  0\n",
       "Gender                     0\n",
       "Age                        0\n",
       "Occupation                 0\n",
       "Sleep Duration             0\n",
       "Quality of Sleep           0\n",
       "Physical Activity Level    0\n",
       "Stress Level               0\n",
       "BMI Category               0\n",
       "Blood Pressure             0\n",
       "Heart Rate                 0\n",
       "Daily Steps                0\n",
       "Sleep Disorder             0\n",
       "dtype: int64"
      ]
     },
     "execution_count": 26,
     "metadata": {},
     "output_type": "execute_result"
    }
   ],
   "source": [
    "missing_values = data.isnull().sum()\n",
    "missing_values"
   ]
  },
  {
   "cell_type": "markdown",
   "id": "29361e8c",
   "metadata": {},
   "source": [
    "There are no missing values in the data"
   ]
  },
  {
   "cell_type": "markdown",
   "id": "99b06387",
   "metadata": {},
   "source": [
    "## 3.4 Label Encoding for Categorical Variables"
   ]
  },
  {
   "cell_type": "code",
   "execution_count": 47,
   "id": "76450e31",
   "metadata": {},
   "outputs": [
    {
     "data": {
      "text/html": [
       "<div>\n",
       "<style scoped>\n",
       "    .dataframe tbody tr th:only-of-type {\n",
       "        vertical-align: middle;\n",
       "    }\n",
       "\n",
       "    .dataframe tbody tr th {\n",
       "        vertical-align: top;\n",
       "    }\n",
       "\n",
       "    .dataframe thead th {\n",
       "        text-align: right;\n",
       "    }\n",
       "</style>\n",
       "<table border=\"1\" class=\"dataframe\">\n",
       "  <thead>\n",
       "    <tr style=\"text-align: right;\">\n",
       "      <th></th>\n",
       "      <th>Person ID</th>\n",
       "      <th>Gender</th>\n",
       "      <th>Age</th>\n",
       "      <th>Occupation</th>\n",
       "      <th>Sleep Duration</th>\n",
       "      <th>Quality of Sleep</th>\n",
       "      <th>Physical Activity Level</th>\n",
       "      <th>Stress Level</th>\n",
       "      <th>BMI Category</th>\n",
       "      <th>Blood Pressure</th>\n",
       "      <th>Heart Rate</th>\n",
       "      <th>Daily Steps</th>\n",
       "      <th>Sleep Disorder</th>\n",
       "    </tr>\n",
       "  </thead>\n",
       "  <tbody>\n",
       "    <tr>\n",
       "      <th>0</th>\n",
       "      <td>1</td>\n",
       "      <td>1</td>\n",
       "      <td>27</td>\n",
       "      <td>9</td>\n",
       "      <td>6.1</td>\n",
       "      <td>6</td>\n",
       "      <td>42</td>\n",
       "      <td>6</td>\n",
       "      <td>3</td>\n",
       "      <td>11</td>\n",
       "      <td>77</td>\n",
       "      <td>4200</td>\n",
       "      <td>1</td>\n",
       "    </tr>\n",
       "    <tr>\n",
       "      <th>1</th>\n",
       "      <td>2</td>\n",
       "      <td>1</td>\n",
       "      <td>28</td>\n",
       "      <td>1</td>\n",
       "      <td>6.2</td>\n",
       "      <td>6</td>\n",
       "      <td>60</td>\n",
       "      <td>8</td>\n",
       "      <td>0</td>\n",
       "      <td>9</td>\n",
       "      <td>75</td>\n",
       "      <td>10000</td>\n",
       "      <td>1</td>\n",
       "    </tr>\n",
       "    <tr>\n",
       "      <th>2</th>\n",
       "      <td>3</td>\n",
       "      <td>1</td>\n",
       "      <td>28</td>\n",
       "      <td>1</td>\n",
       "      <td>6.2</td>\n",
       "      <td>6</td>\n",
       "      <td>60</td>\n",
       "      <td>8</td>\n",
       "      <td>0</td>\n",
       "      <td>9</td>\n",
       "      <td>75</td>\n",
       "      <td>10000</td>\n",
       "      <td>1</td>\n",
       "    </tr>\n",
       "    <tr>\n",
       "      <th>3</th>\n",
       "      <td>4</td>\n",
       "      <td>1</td>\n",
       "      <td>28</td>\n",
       "      <td>6</td>\n",
       "      <td>5.9</td>\n",
       "      <td>4</td>\n",
       "      <td>30</td>\n",
       "      <td>8</td>\n",
       "      <td>2</td>\n",
       "      <td>22</td>\n",
       "      <td>85</td>\n",
       "      <td>3000</td>\n",
       "      <td>2</td>\n",
       "    </tr>\n",
       "    <tr>\n",
       "      <th>4</th>\n",
       "      <td>5</td>\n",
       "      <td>1</td>\n",
       "      <td>28</td>\n",
       "      <td>6</td>\n",
       "      <td>5.9</td>\n",
       "      <td>4</td>\n",
       "      <td>30</td>\n",
       "      <td>8</td>\n",
       "      <td>2</td>\n",
       "      <td>22</td>\n",
       "      <td>85</td>\n",
       "      <td>3000</td>\n",
       "      <td>2</td>\n",
       "    </tr>\n",
       "    <tr>\n",
       "      <th>5</th>\n",
       "      <td>6</td>\n",
       "      <td>1</td>\n",
       "      <td>28</td>\n",
       "      <td>9</td>\n",
       "      <td>5.9</td>\n",
       "      <td>4</td>\n",
       "      <td>30</td>\n",
       "      <td>8</td>\n",
       "      <td>2</td>\n",
       "      <td>22</td>\n",
       "      <td>85</td>\n",
       "      <td>3000</td>\n",
       "      <td>0</td>\n",
       "    </tr>\n",
       "    <tr>\n",
       "      <th>6</th>\n",
       "      <td>7</td>\n",
       "      <td>1</td>\n",
       "      <td>29</td>\n",
       "      <td>10</td>\n",
       "      <td>6.3</td>\n",
       "      <td>6</td>\n",
       "      <td>40</td>\n",
       "      <td>7</td>\n",
       "      <td>2</td>\n",
       "      <td>22</td>\n",
       "      <td>82</td>\n",
       "      <td>3500</td>\n",
       "      <td>0</td>\n",
       "    </tr>\n",
       "    <tr>\n",
       "      <th>7</th>\n",
       "      <td>8</td>\n",
       "      <td>1</td>\n",
       "      <td>29</td>\n",
       "      <td>1</td>\n",
       "      <td>7.8</td>\n",
       "      <td>7</td>\n",
       "      <td>75</td>\n",
       "      <td>6</td>\n",
       "      <td>0</td>\n",
       "      <td>6</td>\n",
       "      <td>70</td>\n",
       "      <td>8000</td>\n",
       "      <td>1</td>\n",
       "    </tr>\n",
       "    <tr>\n",
       "      <th>8</th>\n",
       "      <td>9</td>\n",
       "      <td>1</td>\n",
       "      <td>29</td>\n",
       "      <td>1</td>\n",
       "      <td>7.8</td>\n",
       "      <td>7</td>\n",
       "      <td>75</td>\n",
       "      <td>6</td>\n",
       "      <td>0</td>\n",
       "      <td>6</td>\n",
       "      <td>70</td>\n",
       "      <td>8000</td>\n",
       "      <td>1</td>\n",
       "    </tr>\n",
       "    <tr>\n",
       "      <th>9</th>\n",
       "      <td>10</td>\n",
       "      <td>1</td>\n",
       "      <td>29</td>\n",
       "      <td>1</td>\n",
       "      <td>7.8</td>\n",
       "      <td>7</td>\n",
       "      <td>75</td>\n",
       "      <td>6</td>\n",
       "      <td>0</td>\n",
       "      <td>6</td>\n",
       "      <td>70</td>\n",
       "      <td>8000</td>\n",
       "      <td>1</td>\n",
       "    </tr>\n",
       "  </tbody>\n",
       "</table>\n",
       "</div>"
      ],
      "text/plain": [
       "   Person ID  Gender  Age  Occupation  Sleep Duration  Quality of Sleep  \\\n",
       "0          1       1   27           9             6.1                 6   \n",
       "1          2       1   28           1             6.2                 6   \n",
       "2          3       1   28           1             6.2                 6   \n",
       "3          4       1   28           6             5.9                 4   \n",
       "4          5       1   28           6             5.9                 4   \n",
       "5          6       1   28           9             5.9                 4   \n",
       "6          7       1   29          10             6.3                 6   \n",
       "7          8       1   29           1             7.8                 7   \n",
       "8          9       1   29           1             7.8                 7   \n",
       "9         10       1   29           1             7.8                 7   \n",
       "\n",
       "   Physical Activity Level  Stress Level  BMI Category  Blood Pressure  \\\n",
       "0                       42             6             3              11   \n",
       "1                       60             8             0               9   \n",
       "2                       60             8             0               9   \n",
       "3                       30             8             2              22   \n",
       "4                       30             8             2              22   \n",
       "5                       30             8             2              22   \n",
       "6                       40             7             2              22   \n",
       "7                       75             6             0               6   \n",
       "8                       75             6             0               6   \n",
       "9                       75             6             0               6   \n",
       "\n",
       "   Heart Rate  Daily Steps  Sleep Disorder  \n",
       "0          77         4200               1  \n",
       "1          75        10000               1  \n",
       "2          75        10000               1  \n",
       "3          85         3000               2  \n",
       "4          85         3000               2  \n",
       "5          85         3000               0  \n",
       "6          82         3500               0  \n",
       "7          70         8000               1  \n",
       "8          70         8000               1  \n",
       "9          70         8000               1  "
      ]
     },
     "execution_count": 47,
     "metadata": {},
     "output_type": "execute_result"
    }
   ],
   "source": [
    "label_encoder = LabelEncoder()\n",
    "data['Gender'] = label_encoder.fit_transform(data['Gender'])\n",
    "data['Occupation'] = label_encoder.fit_transform(data['Occupation'])\n",
    "data['BMI Category'] = label_encoder.fit_transform(data['BMI Category'])\n",
    "data['Sleep Disorder'] = label_encoder.fit_transform(data['Sleep Disorder'])\n",
    "data['Blood Pressure'] = label_encoder.fit_transform(data['Blood Pressure'])\n",
    "\n",
    "data.head(10)"
   ]
  },
  {
   "cell_type": "markdown",
   "id": "c40312be",
   "metadata": {},
   "source": [
    "## 4. Exploratory Data Analysis "
   ]
  },
  {
   "cell_type": "markdown",
   "id": "99a65e23",
   "metadata": {},
   "source": [
    "## 4.1 Class Distribution of Target Variables"
   ]
  },
  {
   "cell_type": "code",
   "execution_count": 129,
   "id": "2162070c",
   "metadata": {},
   "outputs": [
    {
     "name": "stdout",
     "output_type": "stream",
     "text": [
      "Count of people not suffering Sleep Disorder:  219\n",
      "Count of people suffering Insomnia:  78\n",
      "Count of people suffering Sleep Apnea:  77\n"
     ]
    },
    {
     "data": {
      "image/png": "[encoded data removed]",
      "text/plain": [
       "<Figure size 432x288 with 1 Axes>"
      ]
     },
     "metadata": {},
     "output_type": "display_data"
    }
   ],
   "source": [
    "ax = sns.countplot(data['Sleep Disorder'], label=\"Count\")\n",
    "\n",
    "x, y, z = data['Sleep Disorder'].value_counts()\n",
    "\n",
    "print('Count of people not suffering Sleep Disorder: ', x)\n",
    "print('Count of people suffering Insomnia: ', y)\n",
    "print('Count of people suffering Sleep Apnea: ', z)"
   ]
  },
  {
   "cell_type": "markdown",
   "id": "b2d5be4d",
   "metadata": {},
   "source": [
    "Note: \n",
    "\n",
    "\n",
    "* 0 - Insomnia\n",
    "* 1 - No Sleep Disorder\n",
    "* 2 - Sleep Apnea"
   ]
  },
  {
   "cell_type": "markdown",
   "id": "b47c7ab4",
   "metadata": {},
   "source": [
    "## 4.2 Multivariate Analysis"
   ]
  },
  {
   "cell_type": "markdown",
   "id": "1b415769",
   "metadata": {},
   "source": [
    "### 4.2.1 Analysis of Sleep Disorder with Gender "
   ]
  },
  {
   "cell_type": "code",
   "execution_count": 29,
   "id": "3b96e916",
   "metadata": {},
   "outputs": [
    {
     "data": {
      "image/png": "[encoded data removed]",
      "text/plain": [
       "<Figure size 432x288 with 1 Axes>"
      ]
     },
     "metadata": {},
     "output_type": "display_data"
    }
   ],
   "source": [
    "sns.countplot(data=data, x='Sleep Disorder', hue='Gender')\n",
    "plt.xlabel('Sleep Disorder')\n",
    "plt.ylabel('Count')\n",
    "plt.title('Sleep Disorder by Gender')\n",
    "plt.xticks(rotation=90)\n",
    "plt.show()"
   ]
  },
  {
   "cell_type": "markdown",
   "id": "308adbdd",
   "metadata": {},
   "source": [
    "Gender:\n",
    "* 0 - Female\n",
    "* 1 - Male\n",
    "\n",
    "Sleep Disorder:\n",
    "* 0 - Insomnia\n",
    "* 1 - No Sleep Disorder\n",
    "* 2 - Sleep Apnea\n",
    "\n",
    "\n",
    "* Most of the people who suffer Insomnia are Male\n",
    "* Most of the people who suffer Sleep Apnea are Female"
   ]
  },
  {
   "cell_type": "markdown",
   "id": "93a2c3af",
   "metadata": {},
   "source": [
    "### 4.2.2 Analysis of Sleep Disorder with Age"
   ]
  },
  {
   "cell_type": "code",
   "execution_count": 49,
   "id": "31490012",
   "metadata": {},
   "outputs": [
    {
     "data": {
      "image/png": "[encoded data removed]",
      "text/plain": [
       "<Figure size 432x288 with 1 Axes>"
      ]
     },
     "metadata": {},
     "output_type": "display_data"
    }
   ],
   "source": [
    "sns.boxplot(data=data, x='Sleep Disorder', y='Age', palette= \"rainbow\")\n",
    "plt.xlabel('Sleep Disorder')\n",
    "plt.ylabel('Age')\n",
    "plt.title('Age Vs Sleep Disorder')\n",
    "plt.show()"
   ]
  },
  {
   "cell_type": "markdown",
   "id": "303c377f",
   "metadata": {},
   "source": [
    "Sleep Disorder:\n",
    "* 0 - Insomnia\n",
    "* 1 - No Sleep Disorder\n",
    "* 2 - Sleep Apnea\n",
    "\n",
    "\n",
    "* Most people who suffer Sleep Apnea are older than 50"
   ]
  },
  {
   "cell_type": "markdown",
   "id": "ab0609af",
   "metadata": {},
   "source": [
    "### 4.2.3 Analysis of Sleep Disorder with Occupation"
   ]
  },
  {
   "cell_type": "code",
   "execution_count": 30,
   "id": "53163384",
   "metadata": {},
   "outputs": [
    {
     "data": {
      "image/png": "[encoded data removed]",
      "text/plain": [
       "<Figure size 432x288 with 1 Axes>"
      ]
     },
     "metadata": {},
     "output_type": "display_data"
    }
   ],
   "source": [
    "sns.countplot(data=data, x='Occupation', hue='Sleep Disorder')\n",
    "plt.xlabel('Count')\n",
    "plt.ylabel('Sleep Disorder')\n",
    "plt.title('Sleep Disorder by Occupation')\n",
    "plt.xticks(rotation=90)\n",
    "plt.show()"
   ]
  },
  {
   "cell_type": "markdown",
   "id": "5139b2d4",
   "metadata": {},
   "source": [
    "Sleep Disorder:\n",
    "* 0 - Insomnia\n",
    "* 1 - No Sleep Disorder\n",
    "* 2 - Sleep Apnea\n",
    "\n",
    "Occupation:\n",
    "* 0 - Accountant\n",
    "* 1 - Doctor \n",
    "* 2 - Engineer\n",
    "* 3 - Lawyer\n",
    "* 4 - Manager\n",
    "* 5 - Nurse\n",
    "* 6 - Sales Representative\n",
    "* 7 - Salesperson\n",
    "* 8 - Scientist\n",
    "* 9 - Software Engineer\n",
    "* 10 - Teacher\n",
    "\n",
    "\n",
    "* Doctors suffer the highest rate of Insomnia\n",
    "* More Lawyers, Engineers, Accountants suffer Insonmnia\n",
    "* Nurses suffer highest rate of Sleep Apnea"
   ]
  },
  {
   "cell_type": "markdown",
   "id": "4676ac5a",
   "metadata": {},
   "source": [
    "### 4.2.4 Analysis of Sleep Disorder with Quality of Sleep"
   ]
  },
  {
   "cell_type": "code",
   "execution_count": 50,
   "id": "64e29739",
   "metadata": {},
   "outputs": [
    {
     "data": {
      "image/png": "[encoded data removed]",
      "text/plain": [
       "<Figure size 432x288 with 1 Axes>"
      ]
     },
     "metadata": {},
     "output_type": "display_data"
    }
   ],
   "source": [
    "sns.boxplot(data=data, x='Sleep Disorder', y='Quality of Sleep', palette= \"rainbow\")\n",
    "plt.xlabel('Sleep Disorder')\n",
    "plt.ylabel('Quality of Sleep')\n",
    "plt.title('Quality of Sleep Vs Sleep Disorder')\n",
    "plt.show()"
   ]
  },
  {
   "cell_type": "markdown",
   "id": "a781ec34",
   "metadata": {},
   "source": [
    "Sleep Disorder:\n",
    "\n",
    "* 0 - Insomnia\n",
    "* 1 - No Sleep Disorder\n",
    "* 2 - Sleep Apnea\n",
    "\n"
   ]
  },
  {
   "cell_type": "markdown",
   "id": "db28d4df",
   "metadata": {},
   "source": [
    "### 4.2.5 Analysis of Sleep Disorder with Sleep Duration"
   ]
  },
  {
   "cell_type": "code",
   "execution_count": 51,
   "id": "9bf8a249",
   "metadata": {},
   "outputs": [
    {
     "data": {
      "image/png": "[encoded data removed]",
      "text/plain": [
       "<Figure size 432x288 with 1 Axes>"
      ]
     },
     "metadata": {},
     "output_type": "display_data"
    }
   ],
   "source": [
    "sns.boxplot(data=data, x='Sleep Disorder', y='Sleep Duration', palette= \"rainbow\")\n",
    "plt.xlabel('Sleep Disorder')\n",
    "plt.ylabel('Sleep Duration')\n",
    "plt.title('Sleep Duration Vs Sleep Disorder')\n",
    "plt.show()"
   ]
  },
  {
   "cell_type": "markdown",
   "id": "96519c62",
   "metadata": {},
   "source": [
    "Sleep Disorder:\n",
    "* 0 - Insomnia\n",
    "* 1 - No Sleep Disorder\n",
    "* 2 - Sleep Apnea\n",
    "\n",
    "\n",
    "* People suffering Insomnia sleep on an average of 6.5 hrs a day\n",
    "* People suffering Sleep Apnea sleep on an average of 6.9 hrs a day\n",
    "* People who doesnot suffer Sleep Disorder sleeps on an average of 7.4 hrs a day "
   ]
  },
  {
   "cell_type": "markdown",
   "id": "a574e621",
   "metadata": {},
   "source": [
    "### 4.2.6 Analysis of Sleep Disorder with Stress Level"
   ]
  },
  {
   "cell_type": "code",
   "execution_count": 52,
   "id": "835c9849",
   "metadata": {},
   "outputs": [
    {
     "data": {
      "image/png": "[encoded data removed]",
      "text/plain": [
       "<Figure size 432x288 with 1 Axes>"
      ]
     },
     "metadata": {},
     "output_type": "display_data"
    }
   ],
   "source": [
    "sns.boxplot(data=data, x='Sleep Disorder', y='Stress Level', palette= \"rainbow\")\n",
    "plt.xlabel('Sleep Disorder')\n",
    "plt.ylabel('Stress Level')\n",
    "plt.title('Stress Level Vs Sleep Disorder')\n",
    "plt.show()"
   ]
  },
  {
   "cell_type": "markdown",
   "id": "a3838b0d",
   "metadata": {},
   "source": [
    "Sleep Disorder:\n",
    "\n",
    "* 0 - Insomnia\n",
    "* 1 - No Sleep Disorder\n",
    "* 2 - Sleep Apnea\n",
    "\n",
    "\n",
    "* People suffering Sleep Apnea have highest Stress level\n",
    "* People suffering Insomnia have Stress level higher than Normal"
   ]
  },
  {
   "cell_type": "markdown",
   "id": "a505e7e9",
   "metadata": {},
   "source": [
    "### 4.2.7 Analysis of Sleep Disorder with Heart Rate"
   ]
  },
  {
   "cell_type": "code",
   "execution_count": 53,
   "id": "95338ba1",
   "metadata": {},
   "outputs": [
    {
     "data": {
      "image/png": "[encoded data removed]",
      "text/plain": [
       "<Figure size 432x288 with 1 Axes>"
      ]
     },
     "metadata": {},
     "output_type": "display_data"
    }
   ],
   "source": [
    "sns.boxplot(data=data, x='Sleep Disorder', y='Heart Rate', palette= \"rainbow\")\n",
    "plt.xlabel('Sleep Disorder')\n",
    "plt.ylabel('Heart Rate')\n",
    "plt.title('Heart Rate Vs Sleep Disorder')\n",
    "plt.show()"
   ]
  },
  {
   "cell_type": "markdown",
   "id": "1a26056e",
   "metadata": {},
   "source": [
    "Sleep Disorder:\n",
    "* 0 - Insomnia\n",
    "* 1 - No Sleep Disorder\n",
    "* 2 - Sleep Apnea\n",
    "\n",
    "\n",
    "* People suffering Insomnia have Heart Rate lower than Normal as well as higher than Normal\n",
    "* People suffering Sleep Apnea have Hear rate higher than Normal"
   ]
  },
  {
   "cell_type": "markdown",
   "id": "9e4fcfb8",
   "metadata": {},
   "source": [
    "## 5. Correlation "
   ]
  },
  {
   "cell_type": "markdown",
   "id": "bef2debc",
   "metadata": {},
   "source": [
    "## 5.1 Correlation Matrix"
   ]
  },
  {
   "cell_type": "code",
   "execution_count": 54,
   "id": "131956b7",
   "metadata": {},
   "outputs": [
    {
     "data": {
      "text/html": [
       "<div>\n",
       "<style scoped>\n",
       "    .dataframe tbody tr th:only-of-type {\n",
       "        vertical-align: middle;\n",
       "    }\n",
       "\n",
       "    .dataframe tbody tr th {\n",
       "        vertical-align: top;\n",
       "    }\n",
       "\n",
       "    .dataframe thead th {\n",
       "        text-align: right;\n",
       "    }\n",
       "</style>\n",
       "<table border=\"1\" class=\"dataframe\">\n",
       "  <thead>\n",
       "    <tr style=\"text-align: right;\">\n",
       "      <th></th>\n",
       "      <th>Person ID</th>\n",
       "      <th>Gender</th>\n",
       "      <th>Age</th>\n",
       "      <th>Occupation</th>\n",
       "      <th>Sleep Duration</th>\n",
       "      <th>Quality of Sleep</th>\n",
       "      <th>Physical Activity Level</th>\n",
       "      <th>Stress Level</th>\n",
       "      <th>BMI Category</th>\n",
       "      <th>Blood Pressure</th>\n",
       "      <th>Heart Rate</th>\n",
       "      <th>Daily Steps</th>\n",
       "      <th>Sleep Disorder</th>\n",
       "    </tr>\n",
       "  </thead>\n",
       "  <tbody>\n",
       "    <tr>\n",
       "      <th>Person ID</th>\n",
       "      <td>1.000000</td>\n",
       "      <td>-0.584229</td>\n",
       "      <td>0.990516</td>\n",
       "      <td>0.269343</td>\n",
       "      <td>0.296305</td>\n",
       "      <td>0.431612</td>\n",
       "      <td>0.149882</td>\n",
       "      <td>-0.394287</td>\n",
       "      <td>0.527614</td>\n",
       "      <td>0.583563</td>\n",
       "      <td>-0.225467</td>\n",
       "      <td>0.043844</td>\n",
       "      <td>0.170980</td>\n",
       "    </tr>\n",
       "    <tr>\n",
       "      <th>Gender</th>\n",
       "      <td>-0.584229</td>\n",
       "      <td>1.000000</td>\n",
       "      <td>-0.596358</td>\n",
       "      <td>-0.219113</td>\n",
       "      <td>-0.121579</td>\n",
       "      <td>-0.291366</td>\n",
       "      <td>0.001454</td>\n",
       "      <td>0.396018</td>\n",
       "      <td>-0.352060</td>\n",
       "      <td>-0.176272</td>\n",
       "      <td>0.217105</td>\n",
       "      <td>-0.014509</td>\n",
       "      <td>-0.253415</td>\n",
       "    </tr>\n",
       "    <tr>\n",
       "      <th>Age</th>\n",
       "      <td>0.990516</td>\n",
       "      <td>-0.596358</td>\n",
       "      <td>1.000000</td>\n",
       "      <td>0.231188</td>\n",
       "      <td>0.344709</td>\n",
       "      <td>0.473734</td>\n",
       "      <td>0.178993</td>\n",
       "      <td>-0.422344</td>\n",
       "      <td>0.511329</td>\n",
       "      <td>0.572813</td>\n",
       "      <td>-0.225606</td>\n",
       "      <td>0.057973</td>\n",
       "      <td>0.232000</td>\n",
       "    </tr>\n",
       "    <tr>\n",
       "      <th>Occupation</th>\n",
       "      <td>0.269343</td>\n",
       "      <td>-0.219113</td>\n",
       "      <td>0.231188</td>\n",
       "      <td>1.000000</td>\n",
       "      <td>-0.325775</td>\n",
       "      <td>-0.278071</td>\n",
       "      <td>-0.103660</td>\n",
       "      <td>0.021123</td>\n",
       "      <td>0.699504</td>\n",
       "      <td>0.546791</td>\n",
       "      <td>0.043928</td>\n",
       "      <td>-0.105877</td>\n",
       "      <td>-0.169800</td>\n",
       "    </tr>\n",
       "    <tr>\n",
       "      <th>Sleep Duration</th>\n",
       "      <td>0.296305</td>\n",
       "      <td>-0.121579</td>\n",
       "      <td>0.344709</td>\n",
       "      <td>-0.325775</td>\n",
       "      <td>1.000000</td>\n",
       "      <td>0.883213</td>\n",
       "      <td>0.212360</td>\n",
       "      <td>-0.811023</td>\n",
       "      <td>-0.376358</td>\n",
       "      <td>-0.191704</td>\n",
       "      <td>-0.516455</td>\n",
       "      <td>-0.039533</td>\n",
       "      <td>0.177552</td>\n",
       "    </tr>\n",
       "    <tr>\n",
       "      <th>Quality of Sleep</th>\n",
       "      <td>0.431612</td>\n",
       "      <td>-0.291366</td>\n",
       "      <td>0.473734</td>\n",
       "      <td>-0.278071</td>\n",
       "      <td>0.883213</td>\n",
       "      <td>1.000000</td>\n",
       "      <td>0.192896</td>\n",
       "      <td>-0.898752</td>\n",
       "      <td>-0.312562</td>\n",
       "      <td>-0.147769</td>\n",
       "      <td>-0.659865</td>\n",
       "      <td>0.016791</td>\n",
       "      <td>0.179592</td>\n",
       "    </tr>\n",
       "    <tr>\n",
       "      <th>Physical Activity Level</th>\n",
       "      <td>0.149882</td>\n",
       "      <td>0.001454</td>\n",
       "      <td>0.178993</td>\n",
       "      <td>-0.103660</td>\n",
       "      <td>0.212360</td>\n",
       "      <td>0.192896</td>\n",
       "      <td>1.000000</td>\n",
       "      <td>-0.034134</td>\n",
       "      <td>0.077156</td>\n",
       "      <td>0.271913</td>\n",
       "      <td>0.136971</td>\n",
       "      <td>0.772723</td>\n",
       "      <td>0.433214</td>\n",
       "    </tr>\n",
       "    <tr>\n",
       "      <th>Stress Level</th>\n",
       "      <td>-0.394287</td>\n",
       "      <td>0.396018</td>\n",
       "      <td>-0.422344</td>\n",
       "      <td>0.021123</td>\n",
       "      <td>-0.811023</td>\n",
       "      <td>-0.898752</td>\n",
       "      <td>-0.034134</td>\n",
       "      <td>1.000000</td>\n",
       "      <td>0.163895</td>\n",
       "      <td>0.117545</td>\n",
       "      <td>0.670026</td>\n",
       "      <td>0.186829</td>\n",
       "      <td>-0.036058</td>\n",
       "    </tr>\n",
       "    <tr>\n",
       "      <th>BMI Category</th>\n",
       "      <td>0.527614</td>\n",
       "      <td>-0.352060</td>\n",
       "      <td>0.511329</td>\n",
       "      <td>0.699504</td>\n",
       "      <td>-0.376358</td>\n",
       "      <td>-0.312562</td>\n",
       "      <td>0.077156</td>\n",
       "      <td>0.163895</td>\n",
       "      <td>1.000000</td>\n",
       "      <td>0.724217</td>\n",
       "      <td>0.295585</td>\n",
       "      <td>-0.005059</td>\n",
       "      <td>0.016573</td>\n",
       "    </tr>\n",
       "    <tr>\n",
       "      <th>Blood Pressure</th>\n",
       "      <td>0.583563</td>\n",
       "      <td>-0.176272</td>\n",
       "      <td>0.572813</td>\n",
       "      <td>0.546791</td>\n",
       "      <td>-0.191704</td>\n",
       "      <td>-0.147769</td>\n",
       "      <td>0.271913</td>\n",
       "      <td>0.117545</td>\n",
       "      <td>0.724217</td>\n",
       "      <td>1.000000</td>\n",
       "      <td>0.288300</td>\n",
       "      <td>0.119455</td>\n",
       "      <td>0.197906</td>\n",
       "    </tr>\n",
       "    <tr>\n",
       "      <th>Heart Rate</th>\n",
       "      <td>-0.225467</td>\n",
       "      <td>0.217105</td>\n",
       "      <td>-0.225606</td>\n",
       "      <td>0.043928</td>\n",
       "      <td>-0.516455</td>\n",
       "      <td>-0.659865</td>\n",
       "      <td>0.136971</td>\n",
       "      <td>0.670026</td>\n",
       "      <td>0.295585</td>\n",
       "      <td>0.288300</td>\n",
       "      <td>1.000000</td>\n",
       "      <td>-0.030309</td>\n",
       "      <td>0.205987</td>\n",
       "    </tr>\n",
       "    <tr>\n",
       "      <th>Daily Steps</th>\n",
       "      <td>0.043844</td>\n",
       "      <td>-0.014509</td>\n",
       "      <td>0.057973</td>\n",
       "      <td>-0.105877</td>\n",
       "      <td>-0.039533</td>\n",
       "      <td>0.016791</td>\n",
       "      <td>0.772723</td>\n",
       "      <td>0.186829</td>\n",
       "      <td>-0.005059</td>\n",
       "      <td>0.119455</td>\n",
       "      <td>-0.030309</td>\n",
       "      <td>1.000000</td>\n",
       "      <td>0.342098</td>\n",
       "    </tr>\n",
       "    <tr>\n",
       "      <th>Sleep Disorder</th>\n",
       "      <td>0.170980</td>\n",
       "      <td>-0.253415</td>\n",
       "      <td>0.232000</td>\n",
       "      <td>-0.169800</td>\n",
       "      <td>0.177552</td>\n",
       "      <td>0.179592</td>\n",
       "      <td>0.433214</td>\n",
       "      <td>-0.036058</td>\n",
       "      <td>0.016573</td>\n",
       "      <td>0.197906</td>\n",
       "      <td>0.205987</td>\n",
       "      <td>0.342098</td>\n",
       "      <td>1.000000</td>\n",
       "    </tr>\n",
       "  </tbody>\n",
       "</table>\n",
       "</div>"
      ],
      "text/plain": [
       "                         Person ID    Gender       Age  Occupation  \\\n",
       "Person ID                 1.000000 -0.584229  0.990516    0.269343   \n",
       "Gender                   -0.584229  1.000000 -0.596358   -0.219113   \n",
       "Age                       0.990516 -0.596358  1.000000    0.231188   \n",
       "Occupation                0.269343 -0.219113  0.231188    1.000000   \n",
       "Sleep Duration            0.296305 -0.121579  0.344709   -0.325775   \n",
       "Quality of Sleep          0.431612 -0.291366  0.473734   -0.278071   \n",
       "Physical Activity Level   0.149882  0.001454  0.178993   -0.103660   \n",
       "Stress Level             -0.394287  0.396018 -0.422344    0.021123   \n",
       "BMI Category              0.527614 -0.352060  0.511329    0.699504   \n",
       "Blood Pressure            0.583563 -0.176272  0.572813    0.546791   \n",
       "Heart Rate               -0.225467  0.217105 -0.225606    0.043928   \n",
       "Daily Steps               0.043844 -0.014509  0.057973   -0.105877   \n",
       "Sleep Disorder            0.170980 -0.253415  0.232000   -0.169800   \n",
       "\n",
       "                         Sleep Duration  Quality of Sleep  \\\n",
       "Person ID                      0.296305          0.431612   \n",
       "Gender                        -0.121579         -0.291366   \n",
       "Age                            0.344709          0.473734   \n",
       "Occupation                    -0.325775         -0.278071   \n",
       "Sleep Duration                 1.000000          0.883213   \n",
       "Quality of Sleep               0.883213          1.000000   \n",
       "Physical Activity Level        0.212360          0.192896   \n",
       "Stress Level                  -0.811023         -0.898752   \n",
       "BMI Category                  -0.376358         -0.312562   \n",
       "Blood Pressure                -0.191704         -0.147769   \n",
       "Heart Rate                    -0.516455         -0.659865   \n",
       "Daily Steps                   -0.039533          0.016791   \n",
       "Sleep Disorder                 0.177552          0.179592   \n",
       "\n",
       "                         Physical Activity Level  Stress Level  BMI Category  \\\n",
       "Person ID                               0.149882     -0.394287      0.527614   \n",
       "Gender                                  0.001454      0.396018     -0.352060   \n",
       "Age                                     0.178993     -0.422344      0.511329   \n",
       "Occupation                             -0.103660      0.021123      0.699504   \n",
       "Sleep Duration                          0.212360     -0.811023     -0.376358   \n",
       "Quality of Sleep                        0.192896     -0.898752     -0.312562   \n",
       "Physical Activity Level                 1.000000     -0.034134      0.077156   \n",
       "Stress Level                           -0.034134      1.000000      0.163895   \n",
       "BMI Category                            0.077156      0.163895      1.000000   \n",
       "Blood Pressure                          0.271913      0.117545      0.724217   \n",
       "Heart Rate                              0.136971      0.670026      0.295585   \n",
       "Daily Steps                             0.772723      0.186829     -0.005059   \n",
       "Sleep Disorder                          0.433214     -0.036058      0.016573   \n",
       "\n",
       "                         Blood Pressure  Heart Rate  Daily Steps  \\\n",
       "Person ID                      0.583563   -0.225467     0.043844   \n",
       "Gender                        -0.176272    0.217105    -0.014509   \n",
       "Age                            0.572813   -0.225606     0.057973   \n",
       "Occupation                     0.546791    0.043928    -0.105877   \n",
       "Sleep Duration                -0.191704   -0.516455    -0.039533   \n",
       "Quality of Sleep              -0.147769   -0.659865     0.016791   \n",
       "Physical Activity Level        0.271913    0.136971     0.772723   \n",
       "Stress Level                   0.117545    0.670026     0.186829   \n",
       "BMI Category                   0.724217    0.295585    -0.005059   \n",
       "Blood Pressure                 1.000000    0.288300     0.119455   \n",
       "Heart Rate                     0.288300    1.000000    -0.030309   \n",
       "Daily Steps                    0.119455   -0.030309     1.000000   \n",
       "Sleep Disorder                 0.197906    0.205987     0.342098   \n",
       "\n",
       "                         Sleep Disorder  \n",
       "Person ID                      0.170980  \n",
       "Gender                        -0.253415  \n",
       "Age                            0.232000  \n",
       "Occupation                    -0.169800  \n",
       "Sleep Duration                 0.177552  \n",
       "Quality of Sleep               0.179592  \n",
       "Physical Activity Level        0.433214  \n",
       "Stress Level                  -0.036058  \n",
       "BMI Category                   0.016573  \n",
       "Blood Pressure                 0.197906  \n",
       "Heart Rate                     0.205987  \n",
       "Daily Steps                    0.342098  \n",
       "Sleep Disorder                 1.000000  "
      ]
     },
     "execution_count": 54,
     "metadata": {},
     "output_type": "execute_result"
    }
   ],
   "source": [
    "corr = data.corr()\n",
    "corr"
   ]
  },
  {
   "cell_type": "markdown",
   "id": "6fee8599",
   "metadata": {},
   "source": [
    "## 5.2 Correlation Map"
   ]
  },
  {
   "cell_type": "code",
   "execution_count": 55,
   "id": "92c11407",
   "metadata": {},
   "outputs": [
    {
     "data": {
      "text/plain": [
       "<AxesSubplot:>"
      ]
     },
     "execution_count": 55,
     "metadata": {},
     "output_type": "execute_result"
    },
    {
     "data": {
      "image/png": "[encoded data removed]",
      "text/plain": [
       "<Figure size 1296x1296 with 2 Axes>"
      ]
     },
     "metadata": {},
     "output_type": "display_data"
    }
   ],
   "source": [
    "f,ax = plt.subplots(figsize=(18,18))\n",
    "sns.heatmap(corr, annot=True, linewidths=.5, fmt= '.1f',ax=ax)"
   ]
  },
  {
   "cell_type": "markdown",
   "id": "c3544289",
   "metadata": {},
   "source": [
    "## 5.3 Correlation plot"
   ]
  },
  {
   "cell_type": "code",
   "execution_count": 56,
   "id": "4a5c418c",
   "metadata": {},
   "outputs": [
    {
     "data": {
      "image/png": "[encoded data removed]",
      "text/plain": [
       "<Figure size 2160x1080 with 2 Axes>"
      ]
     },
     "metadata": {},
     "output_type": "display_data"
    }
   ],
   "source": [
    "plt.figure(figsize=(30, 15))\n",
    "sns.heatmap(corr[(corr >= 0.9) | (corr <= -0.9)], cmap='YlGnBu', vmax=1.0, vmin=-1.0, annot=True, annot_kws={\"size\": 15})\n",
    "plt.title('Correlation between features', fontsize=15)\n",
    "plt.show()"
   ]
  },
  {
   "cell_type": "markdown",
   "id": "8e452d76",
   "metadata": {},
   "source": [
    "* From the Correlation matrix, we can see that variables 'Age', 'Gender' & 'Person ID' have a strong positive correlation with each other. \n",
    "* Ideally, we should not select these features together for training the model."
   ]
  },
  {
   "cell_type": "code",
   "execution_count": 57,
   "id": "b2ea9b03",
   "metadata": {},
   "outputs": [
    {
     "data": {
      "text/html": [
       "<div>\n",
       "<style scoped>\n",
       "    .dataframe tbody tr th:only-of-type {\n",
       "        vertical-align: middle;\n",
       "    }\n",
       "\n",
       "    .dataframe tbody tr th {\n",
       "        vertical-align: top;\n",
       "    }\n",
       "\n",
       "    .dataframe thead th {\n",
       "        text-align: right;\n",
       "    }\n",
       "</style>\n",
       "<table border=\"1\" class=\"dataframe\">\n",
       "  <thead>\n",
       "    <tr style=\"text-align: right;\">\n",
       "      <th></th>\n",
       "      <th>Occupation</th>\n",
       "      <th>Sleep Duration</th>\n",
       "      <th>Quality of Sleep</th>\n",
       "      <th>Physical Activity Level</th>\n",
       "      <th>Stress Level</th>\n",
       "      <th>BMI Category</th>\n",
       "      <th>Blood Pressure</th>\n",
       "      <th>Heart Rate</th>\n",
       "      <th>Daily Steps</th>\n",
       "      <th>Sleep Disorder</th>\n",
       "    </tr>\n",
       "  </thead>\n",
       "  <tbody>\n",
       "    <tr>\n",
       "      <th>0</th>\n",
       "      <td>9</td>\n",
       "      <td>6.1</td>\n",
       "      <td>6</td>\n",
       "      <td>42</td>\n",
       "      <td>6</td>\n",
       "      <td>3</td>\n",
       "      <td>11</td>\n",
       "      <td>77</td>\n",
       "      <td>4200</td>\n",
       "      <td>1</td>\n",
       "    </tr>\n",
       "    <tr>\n",
       "      <th>1</th>\n",
       "      <td>1</td>\n",
       "      <td>6.2</td>\n",
       "      <td>6</td>\n",
       "      <td>60</td>\n",
       "      <td>8</td>\n",
       "      <td>0</td>\n",
       "      <td>9</td>\n",
       "      <td>75</td>\n",
       "      <td>10000</td>\n",
       "      <td>1</td>\n",
       "    </tr>\n",
       "    <tr>\n",
       "      <th>2</th>\n",
       "      <td>1</td>\n",
       "      <td>6.2</td>\n",
       "      <td>6</td>\n",
       "      <td>60</td>\n",
       "      <td>8</td>\n",
       "      <td>0</td>\n",
       "      <td>9</td>\n",
       "      <td>75</td>\n",
       "      <td>10000</td>\n",
       "      <td>1</td>\n",
       "    </tr>\n",
       "    <tr>\n",
       "      <th>3</th>\n",
       "      <td>6</td>\n",
       "      <td>5.9</td>\n",
       "      <td>4</td>\n",
       "      <td>30</td>\n",
       "      <td>8</td>\n",
       "      <td>2</td>\n",
       "      <td>22</td>\n",
       "      <td>85</td>\n",
       "      <td>3000</td>\n",
       "      <td>2</td>\n",
       "    </tr>\n",
       "    <tr>\n",
       "      <th>4</th>\n",
       "      <td>6</td>\n",
       "      <td>5.9</td>\n",
       "      <td>4</td>\n",
       "      <td>30</td>\n",
       "      <td>8</td>\n",
       "      <td>2</td>\n",
       "      <td>22</td>\n",
       "      <td>85</td>\n",
       "      <td>3000</td>\n",
       "      <td>2</td>\n",
       "    </tr>\n",
       "  </tbody>\n",
       "</table>\n",
       "</div>"
      ],
      "text/plain": [
       "   Occupation  Sleep Duration  Quality of Sleep  Physical Activity Level  \\\n",
       "0           9             6.1                 6                       42   \n",
       "1           1             6.2                 6                       60   \n",
       "2           1             6.2                 6                       60   \n",
       "3           6             5.9                 4                       30   \n",
       "4           6             5.9                 4                       30   \n",
       "\n",
       "   Stress Level  BMI Category  Blood Pressure  Heart Rate  Daily Steps  \\\n",
       "0             6             3              11          77         4200   \n",
       "1             8             0               9          75        10000   \n",
       "2             8             0               9          75        10000   \n",
       "3             8             2              22          85         3000   \n",
       "4             8             2              22          85         3000   \n",
       "\n",
       "   Sleep Disorder  \n",
       "0               1  \n",
       "1               1  \n",
       "2               1  \n",
       "3               2  \n",
       "4               2  "
      ]
     },
     "execution_count": 57,
     "metadata": {},
     "output_type": "execute_result"
    }
   ],
   "source": [
    "drop_list = ['Age', 'Gender', 'Person ID']\n",
    "\n",
    "data_cleaned = data.drop(drop_list,axis = 1)        \n",
    "data_cleaned.head()"
   ]
  },
  {
   "cell_type": "code",
   "execution_count": 58,
   "id": "af7cb675",
   "metadata": {},
   "outputs": [
    {
     "data": {
      "text/plain": [
       "Index(['Occupation', 'Sleep Duration', 'Quality of Sleep',\n",
       "       'Physical Activity Level', 'Stress Level', 'BMI Category',\n",
       "       'Blood Pressure', 'Heart Rate', 'Daily Steps', 'Sleep Disorder'],\n",
       "      dtype='object')"
      ]
     },
     "execution_count": 58,
     "metadata": {},
     "output_type": "execute_result"
    }
   ],
   "source": [
    "data_cleaned.columns"
   ]
  },
  {
   "cell_type": "code",
   "execution_count": 61,
   "id": "ac6f4fed",
   "metadata": {},
   "outputs": [
    {
     "data": {
      "text/plain": [
       "<AxesSubplot:>"
      ]
     },
     "execution_count": 61,
     "metadata": {},
     "output_type": "execute_result"
    },
    {
     "data": {
      "image/png": "[encoded data removed]",
      "text/plain": [
       "<Figure size 1296x1296 with 2 Axes>"
      ]
     },
     "metadata": {},
     "output_type": "display_data"
    }
   ],
   "source": [
    "f,ax = plt.subplots(figsize=(18,18))\n",
    "sns.heatmap(data_cleaned.corr(), annot=True, linewidths=.5, fmt= '.1f',ax=ax)"
   ]
  },
  {
   "cell_type": "markdown",
   "id": "bee2da6f",
   "metadata": {},
   "source": [
    "## 6. Data Standardization"
   ]
  },
  {
   "cell_type": "code",
   "execution_count": 137,
   "id": "a701217e",
   "metadata": {},
   "outputs": [],
   "source": [
    "x = data_cleaned.drop(['Sleep Disorder'], axis = 1)\n",
    "\n",
    "scaler = MinMaxScaler()\n",
    "scaler.fit(x)\n",
    "\n",
    "X = scaler.fit_transform(x)\n",
    "y = data_cleaned['Sleep Disorder']"
   ]
  },
  {
   "cell_type": "markdown",
   "id": "80ef24fc",
   "metadata": {},
   "source": [
    "## 7. Creation of Train & Test Data set"
   ]
  },
  {
   "cell_type": "code",
   "execution_count": 138,
   "id": "5307b40a",
   "metadata": {},
   "outputs": [
    {
     "name": "stdout",
     "output_type": "stream",
     "text": [
      "X_train  (299, 9)\n",
      "X_test  (75, 9)\n",
      "y_train  (299,)\n",
      "y_test  (75,)\n"
     ]
    }
   ],
   "source": [
    "X_train, X_test, y_train, y_test = train_test_split(X, y, test_size=0.2)\n",
    "\n",
    "print(\"X_train \", X_train.shape)\n",
    "print(\"X_test \", X_test.shape)\n",
    "\n",
    "print(\"y_train \", y_train.shape)\n",
    "print(\"y_test \", y_test.shape)"
   ]
  },
  {
   "cell_type": "markdown",
   "id": "72f0ae86",
   "metadata": {},
   "source": [
    "## 8. Model Building (Classification model)"
   ]
  },
  {
   "cell_type": "markdown",
   "id": "99193cd0",
   "metadata": {},
   "source": [
    "## 8.1 Model-1: Bagging Meta- Estimator "
   ]
  },
  {
   "cell_type": "markdown",
   "id": "a82a9122",
   "metadata": {},
   "source": [
    "### 8.1.1 Building model:"
   ]
  },
  {
   "cell_type": "code",
   "execution_count": 140,
   "id": "4f120d77",
   "metadata": {},
   "outputs": [
    {
     "data": {
      "text/plain": [
       "BaggingClassifier(base_estimator=DecisionTreeClassifier(random_state=12))"
      ]
     },
     "execution_count": 140,
     "metadata": {},
     "output_type": "execute_result"
    }
   ],
   "source": [
    "meta_estimator = BaggingClassifier(tree.DecisionTreeClassifier(random_state=12))\n",
    "\n",
    "meta_estimator.fit(X_train, y_train)"
   ]
  },
  {
   "cell_type": "markdown",
   "id": "fe53f7f5",
   "metadata": {},
   "source": [
    "### 8.1.2 Prediction on Test Dataset:"
   ]
  },
  {
   "cell_type": "code",
   "execution_count": 141,
   "id": "1bfa5dde",
   "metadata": {},
   "outputs": [],
   "source": [
    "y_pred_bme = meta_estimator.predict(X_test)"
   ]
  },
  {
   "cell_type": "markdown",
   "id": "1f497f20",
   "metadata": {},
   "source": [
    "### 8.1.3 Confusion Matrix:"
   ]
  },
  {
   "cell_type": "code",
   "execution_count": 142,
   "id": "79533da2",
   "metadata": {},
   "outputs": [
    {
     "data": {
      "image/png": "[encoded data removed]",
      "text/plain": [
       "<Figure size 576x360 with 1 Axes>"
      ]
     },
     "metadata": {},
     "output_type": "display_data"
    }
   ],
   "source": [
    "cm = confusion_matrix(y_test, y_pred_bme)\n",
    "\n",
    "conf_matrix = pd.DataFrame(data=cm,\n",
    "                           columns=['Predicted:0','Predicted:1', 'Predicted:2'],\n",
    "                           index=['Actual:0','Actual:1', 'Actual:2'])\n",
    "\n",
    "plt.figure(figsize = (8,5))\n",
    "\n",
    "sns.heatmap(conf_matrix, annot=True, fmt='d', cmap=\"YlGnBu\", cbar=False)\n",
    "plt.show()"
   ]
  },
  {
   "cell_type": "markdown",
   "id": "6738bd3a",
   "metadata": {},
   "source": [
    "### 8.1.4 Classification Report:"
   ]
  },
  {
   "cell_type": "code",
   "execution_count": 143,
   "id": "c8cae28a",
   "metadata": {},
   "outputs": [
    {
     "name": "stdout",
     "output_type": "stream",
     "text": [
      "              precision    recall  f1-score   support\n",
      "\n",
      "           0       1.00      0.83      0.91        12\n",
      "           1       0.91      0.91      0.91        46\n",
      "           2       0.79      0.88      0.83        17\n",
      "\n",
      "    accuracy                           0.89        75\n",
      "   macro avg       0.90      0.88      0.89        75\n",
      "weighted avg       0.90      0.89      0.89        75\n",
      "\n"
     ]
    }
   ],
   "source": [
    "result = classification_report(y_test,y_pred_bme)\n",
    "print(result)"
   ]
  },
  {
   "cell_type": "markdown",
   "id": "717839a1",
   "metadata": {},
   "source": [
    "### 8.1.5 Tabulate Results:"
   ]
  },
  {
   "cell_type": "code",
   "execution_count": 144,
   "id": "c0b43b4b",
   "metadata": {},
   "outputs": [
    {
     "data": {
      "text/html": [
       "<div>\n",
       "<style scoped>\n",
       "    .dataframe tbody tr th:only-of-type {\n",
       "        vertical-align: middle;\n",
       "    }\n",
       "\n",
       "    .dataframe tbody tr th {\n",
       "        vertical-align: top;\n",
       "    }\n",
       "\n",
       "    .dataframe thead th {\n",
       "        text-align: right;\n",
       "    }\n",
       "</style>\n",
       "<table border=\"1\" class=\"dataframe\">\n",
       "  <thead>\n",
       "    <tr style=\"text-align: right;\">\n",
       "      <th></th>\n",
       "      <th>Model</th>\n",
       "      <th>Precision Score</th>\n",
       "      <th>Recall Score</th>\n",
       "      <th>Accuracy Score</th>\n",
       "      <th>f1-score</th>\n",
       "    </tr>\n",
       "  </thead>\n",
       "  <tbody>\n",
       "    <tr>\n",
       "      <th>0</th>\n",
       "      <td>Bagging Meta-estimator</td>\n",
       "      <td>0.893333</td>\n",
       "      <td>0.893333</td>\n",
       "      <td>0.893333</td>\n",
       "      <td>0.893333</td>\n",
       "    </tr>\n",
       "  </tbody>\n",
       "</table>\n",
       "</div>"
      ],
      "text/plain": [
       "                    Model Precision Score Recall Score Accuracy Score  \\\n",
       "0  Bagging Meta-estimator        0.893333     0.893333       0.893333   \n",
       "\n",
       "   f1-score  \n",
       "0  0.893333  "
      ]
     },
     "execution_count": 144,
     "metadata": {},
     "output_type": "execute_result"
    }
   ],
   "source": [
    "cols = ['Model', 'Precision Score', 'Recall Score','Accuracy Score','f1-score']\n",
    "\n",
    "result_Tab = pd.DataFrame(columns = cols)\n",
    "\n",
    "Bagging_Meta_estimator = pd.Series({'Model': \"Bagging Meta-estimator\",\n",
    "                                    'Precision Score': metrics.precision_score(y_test, y_pred_bme, average='micro'),\n",
    "                                    'Recall Score': metrics.recall_score(y_test, y_pred_bme, average='micro'),\n",
    "                                    'Accuracy Score': metrics.accuracy_score(y_test, y_pred_bme),\n",
    "                                    'f1-score': metrics.f1_score(y_test, y_pred_bme, average='micro')})\n",
    "\n",
    "result_Tab = result_Tab.append(Bagging_Meta_estimator , ignore_index = True)\n",
    "result_Tab"
   ]
  },
  {
   "cell_type": "markdown",
   "id": "01ba01ae",
   "metadata": {},
   "source": [
    "## 8.2 Model-2: AdaBoost"
   ]
  },
  {
   "cell_type": "markdown",
   "id": "c01d6d0f",
   "metadata": {},
   "source": [
    "### 8.2.1 Building model:"
   ]
  },
  {
   "cell_type": "code",
   "execution_count": 145,
   "id": "5ffb8113",
   "metadata": {},
   "outputs": [
    {
     "data": {
      "text/plain": [
       "AdaBoostClassifier(random_state=12)"
      ]
     },
     "execution_count": 145,
     "metadata": {},
     "output_type": "execute_result"
    }
   ],
   "source": [
    "adaboost = AdaBoostClassifier(random_state=12)\n",
    "\n",
    "adaboost.fit(X_train, y_train)"
   ]
  },
  {
   "cell_type": "markdown",
   "id": "4d2e7b8c",
   "metadata": {},
   "source": [
    "### 8.2.2 Prediction on Test Dataset:"
   ]
  },
  {
   "cell_type": "code",
   "execution_count": 146,
   "id": "c01bd1ea",
   "metadata": {},
   "outputs": [],
   "source": [
    "y_pred_adaboost  = adaboost.predict(X_test)"
   ]
  },
  {
   "cell_type": "markdown",
   "id": "b890bcfa",
   "metadata": {},
   "source": [
    "### 8.2.3 Confusion Matrix:"
   ]
  },
  {
   "cell_type": "code",
   "execution_count": 147,
   "id": "47ba0a43",
   "metadata": {},
   "outputs": [
    {
     "data": {
      "image/png": "[encoded data removed]",
      "text/plain": [
       "<Figure size 576x360 with 1 Axes>"
      ]
     },
     "metadata": {},
     "output_type": "display_data"
    }
   ],
   "source": [
    "cm = confusion_matrix(y_test, y_pred_adaboost)\n",
    "\n",
    "conf_matrix = pd.DataFrame(data=cm,\n",
    "                           columns=['Predicted:0','Predicted:1', 'Predicted:2'],\n",
    "                           index=['Actual:0','Actual:1', 'Actual:2'])\n",
    "\n",
    "plt.figure(figsize = (8,5))\n",
    "\n",
    "sns.heatmap(conf_matrix, annot=True, fmt='d', cmap=\"YlGnBu\", cbar=False)\n",
    "plt.show()"
   ]
  },
  {
   "cell_type": "markdown",
   "id": "33d937d6",
   "metadata": {},
   "source": [
    "### 8.2.4 Classification Report:"
   ]
  },
  {
   "cell_type": "code",
   "execution_count": 148,
   "id": "a9a3a435",
   "metadata": {},
   "outputs": [
    {
     "name": "stdout",
     "output_type": "stream",
     "text": [
      "              precision    recall  f1-score   support\n",
      "\n",
      "           0       0.64      0.58      0.61        12\n",
      "           1       0.86      0.91      0.88        46\n",
      "           2       0.93      0.82      0.87        17\n",
      "\n",
      "    accuracy                           0.84        75\n",
      "   macro avg       0.81      0.77      0.79        75\n",
      "weighted avg       0.84      0.84      0.84        75\n",
      "\n"
     ]
    }
   ],
   "source": [
    "result = classification_report(y_test, y_pred_adaboost)\n",
    "\n",
    "print(result)"
   ]
  },
  {
   "cell_type": "markdown",
   "id": "75bcd665",
   "metadata": {},
   "source": [
    "### 8.2.5 Tabulate Results:"
   ]
  },
  {
   "cell_type": "code",
   "execution_count": 149,
   "id": "3fdaee90",
   "metadata": {},
   "outputs": [
    {
     "data": {
      "text/html": [
       "<div>\n",
       "<style scoped>\n",
       "    .dataframe tbody tr th:only-of-type {\n",
       "        vertical-align: middle;\n",
       "    }\n",
       "\n",
       "    .dataframe tbody tr th {\n",
       "        vertical-align: top;\n",
       "    }\n",
       "\n",
       "    .dataframe thead th {\n",
       "        text-align: right;\n",
       "    }\n",
       "</style>\n",
       "<table border=\"1\" class=\"dataframe\">\n",
       "  <thead>\n",
       "    <tr style=\"text-align: right;\">\n",
       "      <th></th>\n",
       "      <th>Model</th>\n",
       "      <th>Precision Score</th>\n",
       "      <th>Recall Score</th>\n",
       "      <th>Accuracy Score</th>\n",
       "      <th>f1-score</th>\n",
       "    </tr>\n",
       "  </thead>\n",
       "  <tbody>\n",
       "    <tr>\n",
       "      <th>0</th>\n",
       "      <td>Bagging Meta-estimator</td>\n",
       "      <td>0.893333</td>\n",
       "      <td>0.893333</td>\n",
       "      <td>0.893333</td>\n",
       "      <td>0.893333</td>\n",
       "    </tr>\n",
       "    <tr>\n",
       "      <th>1</th>\n",
       "      <td>AdaBoost</td>\n",
       "      <td>0.84</td>\n",
       "      <td>0.84</td>\n",
       "      <td>0.84</td>\n",
       "      <td>0.84</td>\n",
       "    </tr>\n",
       "  </tbody>\n",
       "</table>\n",
       "</div>"
      ],
      "text/plain": [
       "                    Model Precision Score Recall Score Accuracy Score  \\\n",
       "0  Bagging Meta-estimator        0.893333     0.893333       0.893333   \n",
       "1                AdaBoost            0.84         0.84           0.84   \n",
       "\n",
       "   f1-score  \n",
       "0  0.893333  \n",
       "1      0.84  "
      ]
     },
     "execution_count": 149,
     "metadata": {},
     "output_type": "execute_result"
    }
   ],
   "source": [
    "Adaboost_metrics = pd.Series({'Model': \"AdaBoost\",\n",
    "                 'Precision Score': metrics.precision_score(y_test, y_pred_adaboost,average='micro'),\n",
    "                 'Recall Score': metrics.recall_score(y_test, y_pred_adaboost,average='micro'),\n",
    "                 'Accuracy Score': metrics.accuracy_score(y_test, y_pred_adaboost),\n",
    "                 'f1-score':metrics.f1_score(y_test, y_pred_adaboost,average='micro')})\n",
    "\n",
    "result_Tab = result_Tab.append(Adaboost_metrics, ignore_index = True)\n",
    "result_Tab"
   ]
  },
  {
   "cell_type": "markdown",
   "id": "9830fd91",
   "metadata": {},
   "source": [
    "## 8.3 Model-3: XGBoost"
   ]
  },
  {
   "cell_type": "markdown",
   "id": "2d2f6639",
   "metadata": {},
   "source": [
    "### 8.3.1 Building model:"
   ]
  },
  {
   "cell_type": "code",
   "execution_count": 150,
   "id": "795995a9",
   "metadata": {},
   "outputs": [
    {
     "data": {
      "text/plain": [
       "XGBClassifier(base_score=None, booster=None, callbacks=None,\n",
       "              colsample_bylevel=None, colsample_bynode=None,\n",
       "              colsample_bytree=None, early_stopping_rounds=None,\n",
       "              enable_categorical=False, eval_metric=None, feature_types=None,\n",
       "              gamma=None, gpu_id=None, grow_policy=None, importance_type=None,\n",
       "              interaction_constraints=None, learning_rate=0.01, max_bin=None,\n",
       "              max_cat_threshold=None, max_cat_to_onehot=None,\n",
       "              max_delta_step=None, max_depth=None, max_leaves=None,\n",
       "              min_child_weight=None, missing=nan, monotone_constraints=None,\n",
       "              n_estimators=100, n_jobs=None, num_parallel_tree=None,\n",
       "              objective='multi:softprob', predictor=None, ...)"
      ]
     },
     "execution_count": 150,
     "metadata": {},
     "output_type": "execute_result"
    }
   ],
   "source": [
    "xgbm = XGBClassifier(random_state=12, learning_rate=0.01)\n",
    "\n",
    "xgbm.fit(X_train, y_train)"
   ]
  },
  {
   "cell_type": "markdown",
   "id": "3cd98c13",
   "metadata": {},
   "source": [
    "### 8.3.2 Prediction on Test Dataset:"
   ]
  },
  {
   "cell_type": "code",
   "execution_count": 151,
   "id": "1eae0edc",
   "metadata": {},
   "outputs": [],
   "source": [
    "y_pred_xgbm  = xgbm.predict(X_test)"
   ]
  },
  {
   "cell_type": "markdown",
   "id": "9c638180",
   "metadata": {},
   "source": [
    "### 8.3.3 Confusion Matrix:"
   ]
  },
  {
   "cell_type": "code",
   "execution_count": 152,
   "id": "ca12baf7",
   "metadata": {},
   "outputs": [
    {
     "data": {
      "image/png": "[encoded data removed]",
      "text/plain": [
       "<Figure size 576x360 with 1 Axes>"
      ]
     },
     "metadata": {},
     "output_type": "display_data"
    }
   ],
   "source": [
    "cm = confusion_matrix(y_test, y_pred_xgbm)\n",
    "\n",
    "conf_matrix = pd.DataFrame(data=cm,columns=['Predicted:0','Predicted:1', 'Predicted:2'],\n",
    "                           index=['Actual:0','Actual:1', 'Actual:2'])\n",
    "\n",
    "plt.figure(figsize = (8,5))\n",
    "\n",
    "sns.heatmap(conf_matrix, annot=True, fmt='d', cmap=\"YlGnBu\", cbar=False)\n",
    "plt.show()"
   ]
  },
  {
   "cell_type": "markdown",
   "id": "3f19508a",
   "metadata": {},
   "source": [
    "### 8.3.4 Classification Report:"
   ]
  },
  {
   "cell_type": "code",
   "execution_count": 153,
   "id": "4b5e71c9",
   "metadata": {},
   "outputs": [
    {
     "name": "stdout",
     "output_type": "stream",
     "text": [
      "              precision    recall  f1-score   support\n",
      "\n",
      "           0       1.00      0.83      0.91        12\n",
      "           1       0.92      0.98      0.95        46\n",
      "           2       0.94      0.88      0.91        17\n",
      "\n",
      "    accuracy                           0.93        75\n",
      "   macro avg       0.95      0.90      0.92        75\n",
      "weighted avg       0.94      0.93      0.93        75\n",
      "\n"
     ]
    }
   ],
   "source": [
    "result = classification_report(y_test, y_pred_xgbm)\n",
    "\n",
    "print(result)"
   ]
  },
  {
   "cell_type": "markdown",
   "id": "699b15aa",
   "metadata": {},
   "source": [
    "### 8.3.5 Tabulate Results:"
   ]
  },
  {
   "cell_type": "code",
   "execution_count": 154,
   "id": "9a8ab6c3",
   "metadata": {},
   "outputs": [
    {
     "data": {
      "text/html": [
       "<div>\n",
       "<style scoped>\n",
       "    .dataframe tbody tr th:only-of-type {\n",
       "        vertical-align: middle;\n",
       "    }\n",
       "\n",
       "    .dataframe tbody tr th {\n",
       "        vertical-align: top;\n",
       "    }\n",
       "\n",
       "    .dataframe thead th {\n",
       "        text-align: right;\n",
       "    }\n",
       "</style>\n",
       "<table border=\"1\" class=\"dataframe\">\n",
       "  <thead>\n",
       "    <tr style=\"text-align: right;\">\n",
       "      <th></th>\n",
       "      <th>Model</th>\n",
       "      <th>Precision Score</th>\n",
       "      <th>Recall Score</th>\n",
       "      <th>Accuracy Score</th>\n",
       "      <th>f1-score</th>\n",
       "    </tr>\n",
       "  </thead>\n",
       "  <tbody>\n",
       "    <tr>\n",
       "      <th>0</th>\n",
       "      <td>Bagging Meta-estimator</td>\n",
       "      <td>0.893333</td>\n",
       "      <td>0.893333</td>\n",
       "      <td>0.893333</td>\n",
       "      <td>0.893333</td>\n",
       "    </tr>\n",
       "    <tr>\n",
       "      <th>1</th>\n",
       "      <td>AdaBoost</td>\n",
       "      <td>0.84</td>\n",
       "      <td>0.84</td>\n",
       "      <td>0.84</td>\n",
       "      <td>0.84</td>\n",
       "    </tr>\n",
       "    <tr>\n",
       "      <th>2</th>\n",
       "      <td>XGBM</td>\n",
       "      <td>0.933333</td>\n",
       "      <td>0.933333</td>\n",
       "      <td>0.933333</td>\n",
       "      <td>0.933333</td>\n",
       "    </tr>\n",
       "  </tbody>\n",
       "</table>\n",
       "</div>"
      ],
      "text/plain": [
       "                    Model Precision Score Recall Score Accuracy Score  \\\n",
       "0  Bagging Meta-estimator        0.893333     0.893333       0.893333   \n",
       "1                AdaBoost            0.84         0.84           0.84   \n",
       "2                    XGBM        0.933333     0.933333       0.933333   \n",
       "\n",
       "   f1-score  \n",
       "0  0.893333  \n",
       "1      0.84  \n",
       "2  0.933333  "
      ]
     },
     "execution_count": 154,
     "metadata": {},
     "output_type": "execute_result"
    }
   ],
   "source": [
    "xgbm_metrices = pd.Series({'Model': \"XGBM\",\n",
    "                 'Precision Score': metrics.precision_score(y_test, y_pred_xgbm,average='micro'),\n",
    "                 'Recall Score': metrics.recall_score(y_test, y_pred_xgbm,average='micro'),\n",
    "                 'Accuracy Score': metrics.accuracy_score(y_test, y_pred_xgbm),\n",
    "                  'f1-score':metrics.f1_score(y_test, y_pred_xgbm,average='micro')})\n",
    "\n",
    "result_Tab = result_Tab.append(xgbm_metrices, ignore_index = True)\n",
    "result_Tab"
   ]
  },
  {
   "cell_type": "markdown",
   "id": "ff60275e",
   "metadata": {},
   "source": [
    "## 8.4 Model-4: Naive Bayes"
   ]
  },
  {
   "cell_type": "markdown",
   "id": "2d0644ab",
   "metadata": {},
   "source": [
    "### 8.4.1 Building model:"
   ]
  },
  {
   "cell_type": "code",
   "execution_count": 155,
   "id": "f70b06b2",
   "metadata": {},
   "outputs": [
    {
     "data": {
      "text/plain": [
       "OneVsRestClassifier(estimator=GaussianNB())"
      ]
     },
     "execution_count": 155,
     "metadata": {},
     "output_type": "execute_result"
    }
   ],
   "source": [
    "gnb = GaussianNB()\n",
    "\n",
    "GNB = OneVsRestClassifier(gnb)\n",
    "\n",
    "GNB.fit(X_train, y_train)"
   ]
  },
  {
   "cell_type": "markdown",
   "id": "e0fd870d",
   "metadata": {},
   "source": [
    "### 8.4.2 Prediction on Test Dataset:"
   ]
  },
  {
   "cell_type": "code",
   "execution_count": 156,
   "id": "052e7e70",
   "metadata": {},
   "outputs": [],
   "source": [
    "y_pred_GNB = GNB.predict(X_test)"
   ]
  },
  {
   "cell_type": "markdown",
   "id": "1a620f0e",
   "metadata": {},
   "source": [
    "### 8.4.3 Confusion Matrix:"
   ]
  },
  {
   "cell_type": "code",
   "execution_count": 157,
   "id": "297315c3",
   "metadata": {},
   "outputs": [
    {
     "data": {
      "image/png": "[encoded data removed]",
      "text/plain": [
       "<Figure size 576x360 with 1 Axes>"
      ]
     },
     "metadata": {},
     "output_type": "display_data"
    }
   ],
   "source": [
    "cm = confusion_matrix(y_test, y_pred_GNB)\n",
    "\n",
    "conf_matrix = pd.DataFrame(data=cm,columns=['Predicted:0','Predicted:1','Predicted:2'],\n",
    "                           index=['Actual:0','Actual:1','Actual:2'])\n",
    "\n",
    "plt.figure(figsize = (8,5))\n",
    "\n",
    "sns.heatmap(conf_matrix, annot=True, fmt='d', cmap=\"YlGnBu\", cbar=False)\n",
    "plt.show()"
   ]
  },
  {
   "cell_type": "markdown",
   "id": "99cc4b16",
   "metadata": {},
   "source": [
    "### 8.4.4 Classification Report:"
   ]
  },
  {
   "cell_type": "code",
   "execution_count": 158,
   "id": "2645a609",
   "metadata": {},
   "outputs": [
    {
     "name": "stdout",
     "output_type": "stream",
     "text": [
      "              precision    recall  f1-score   support\n",
      "\n",
      "           0       0.71      0.83      0.77        12\n",
      "           1       0.91      0.91      0.91        46\n",
      "           2       0.93      0.82      0.87        17\n",
      "\n",
      "    accuracy                           0.88        75\n",
      "   macro avg       0.85      0.86      0.85        75\n",
      "weighted avg       0.89      0.88      0.88        75\n",
      "\n"
     ]
    }
   ],
   "source": [
    "result = classification_report(y_test, y_pred_GNB)\n",
    "\n",
    "print(result)"
   ]
  },
  {
   "cell_type": "markdown",
   "id": "6aebfc98",
   "metadata": {},
   "source": [
    "### 8.4.5 Tabulate Results:"
   ]
  },
  {
   "cell_type": "code",
   "execution_count": 159,
   "id": "4b6ccb00",
   "metadata": {},
   "outputs": [
    {
     "data": {
      "text/html": [
       "<div>\n",
       "<style scoped>\n",
       "    .dataframe tbody tr th:only-of-type {\n",
       "        vertical-align: middle;\n",
       "    }\n",
       "\n",
       "    .dataframe tbody tr th {\n",
       "        vertical-align: top;\n",
       "    }\n",
       "\n",
       "    .dataframe thead th {\n",
       "        text-align: right;\n",
       "    }\n",
       "</style>\n",
       "<table border=\"1\" class=\"dataframe\">\n",
       "  <thead>\n",
       "    <tr style=\"text-align: right;\">\n",
       "      <th></th>\n",
       "      <th>Model</th>\n",
       "      <th>Precision Score</th>\n",
       "      <th>Recall Score</th>\n",
       "      <th>Accuracy Score</th>\n",
       "      <th>f1-score</th>\n",
       "    </tr>\n",
       "  </thead>\n",
       "  <tbody>\n",
       "    <tr>\n",
       "      <th>0</th>\n",
       "      <td>Bagging Meta-estimator</td>\n",
       "      <td>0.893333</td>\n",
       "      <td>0.893333</td>\n",
       "      <td>0.893333</td>\n",
       "      <td>0.893333</td>\n",
       "    </tr>\n",
       "    <tr>\n",
       "      <th>1</th>\n",
       "      <td>AdaBoost</td>\n",
       "      <td>0.84</td>\n",
       "      <td>0.84</td>\n",
       "      <td>0.84</td>\n",
       "      <td>0.84</td>\n",
       "    </tr>\n",
       "    <tr>\n",
       "      <th>2</th>\n",
       "      <td>XGBM</td>\n",
       "      <td>0.933333</td>\n",
       "      <td>0.933333</td>\n",
       "      <td>0.933333</td>\n",
       "      <td>0.933333</td>\n",
       "    </tr>\n",
       "    <tr>\n",
       "      <th>3</th>\n",
       "      <td>Naive Bayes</td>\n",
       "      <td>0.853554</td>\n",
       "      <td>0.856635</td>\n",
       "      <td>0.88</td>\n",
       "      <td>0.852425</td>\n",
       "    </tr>\n",
       "  </tbody>\n",
       "</table>\n",
       "</div>"
      ],
      "text/plain": [
       "                    Model Precision Score Recall Score Accuracy Score  \\\n",
       "0  Bagging Meta-estimator        0.893333     0.893333       0.893333   \n",
       "1                AdaBoost            0.84         0.84           0.84   \n",
       "2                    XGBM        0.933333     0.933333       0.933333   \n",
       "3             Naive Bayes        0.853554     0.856635           0.88   \n",
       "\n",
       "   f1-score  \n",
       "0  0.893333  \n",
       "1      0.84  \n",
       "2  0.933333  \n",
       "3  0.852425  "
      ]
     },
     "execution_count": 159,
     "metadata": {},
     "output_type": "execute_result"
    }
   ],
   "source": [
    "Naive_Bayes = pd.Series({'Model': \"Naive Bayes\",\n",
    "                 'Precision Score': metrics.precision_score(y_test, y_pred_GNB,average=\"macro\"),\n",
    "                 'Recall Score': metrics.recall_score(y_test, y_pred_GNB ,average=\"macro\"),\n",
    "                 'Accuracy Score': metrics.accuracy_score(y_test, y_pred_GNB),\n",
    "                  'f1-score':metrics.f1_score(y_test, y_pred_GNB,average = \"macro\")})\n",
    "\n",
    "result_Tab = result_Tab.append(Naive_Bayes , ignore_index = True)\n",
    "result_Tab"
   ]
  },
  {
   "cell_type": "markdown",
   "id": "a2a9faef",
   "metadata": {},
   "source": [
    "## 8.5 Model-5: RandomForest"
   ]
  },
  {
   "cell_type": "markdown",
   "id": "4ee51897",
   "metadata": {},
   "source": [
    "### 8.5.1 Building model:"
   ]
  },
  {
   "cell_type": "code",
   "execution_count": 160,
   "id": "beabeb7d",
   "metadata": {},
   "outputs": [
    {
     "data": {
      "text/plain": [
       "RandomForestClassifier(random_state=12)"
      ]
     },
     "execution_count": 160,
     "metadata": {},
     "output_type": "execute_result"
    }
   ],
   "source": [
    "rf_reg = RandomForestClassifier(random_state=12)\n",
    "\n",
    "rf_reg.fit(X_train, y_train)"
   ]
  },
  {
   "cell_type": "markdown",
   "id": "02b95972",
   "metadata": {},
   "source": [
    "### 8.5.2 Prediction on Test Dataset:"
   ]
  },
  {
   "cell_type": "code",
   "execution_count": 161,
   "id": "4c995ae6",
   "metadata": {},
   "outputs": [],
   "source": [
    "y_pred_rf = rf_reg.predict(X_test)"
   ]
  },
  {
   "cell_type": "markdown",
   "id": "31799721",
   "metadata": {},
   "source": [
    "### 8.5.3 Confusion Matrix:"
   ]
  },
  {
   "cell_type": "code",
   "execution_count": 162,
   "id": "04bb3a5d",
   "metadata": {},
   "outputs": [
    {
     "data": {
      "image/png": "[encoded data removed]",
      "text/plain": [
       "<Figure size 576x360 with 1 Axes>"
      ]
     },
     "metadata": {},
     "output_type": "display_data"
    }
   ],
   "source": [
    "cm = confusion_matrix(y_test, y_pred_rf)\n",
    "\n",
    "conf_matrix = pd.DataFrame(data=cm,columns=['Predicted:0','Predicted:1','Predicted:2'],\n",
    "                           index=['Actual:0','Actual:1','Actual:2'])\n",
    "\n",
    "plt.figure(figsize = (8,5))\n",
    "\n",
    "sns.heatmap(conf_matrix, annot=True, fmt='d', cmap=\"YlGnBu\", cbar=False)\n",
    "plt.show()"
   ]
  },
  {
   "cell_type": "markdown",
   "id": "5764bd64",
   "metadata": {},
   "source": [
    "### 8.5.4 Classification Report:"
   ]
  },
  {
   "cell_type": "code",
   "execution_count": 163,
   "id": "e323cf11",
   "metadata": {},
   "outputs": [
    {
     "name": "stdout",
     "output_type": "stream",
     "text": [
      "              precision    recall  f1-score   support\n",
      "\n",
      "           0       1.00      0.83      0.91        12\n",
      "           1       0.91      0.91      0.91        46\n",
      "           2       0.79      0.88      0.83        17\n",
      "\n",
      "    accuracy                           0.89        75\n",
      "   macro avg       0.90      0.88      0.89        75\n",
      "weighted avg       0.90      0.89      0.89        75\n",
      "\n"
     ]
    }
   ],
   "source": [
    "result = classification_report(y_test, y_pred_rf)\n",
    "\n",
    "print(result)"
   ]
  },
  {
   "cell_type": "markdown",
   "id": "e092e48d",
   "metadata": {},
   "source": [
    "### 8.5.5 Tabulate Results:"
   ]
  },
  {
   "cell_type": "code",
   "execution_count": 164,
   "id": "6be770cd",
   "metadata": {},
   "outputs": [
    {
     "data": {
      "text/html": [
       "<div>\n",
       "<style scoped>\n",
       "    .dataframe tbody tr th:only-of-type {\n",
       "        vertical-align: middle;\n",
       "    }\n",
       "\n",
       "    .dataframe tbody tr th {\n",
       "        vertical-align: top;\n",
       "    }\n",
       "\n",
       "    .dataframe thead th {\n",
       "        text-align: right;\n",
       "    }\n",
       "</style>\n",
       "<table border=\"1\" class=\"dataframe\">\n",
       "  <thead>\n",
       "    <tr style=\"text-align: right;\">\n",
       "      <th></th>\n",
       "      <th>Model</th>\n",
       "      <th>Precision Score</th>\n",
       "      <th>Recall Score</th>\n",
       "      <th>Accuracy Score</th>\n",
       "      <th>f1-score</th>\n",
       "    </tr>\n",
       "  </thead>\n",
       "  <tbody>\n",
       "    <tr>\n",
       "      <th>0</th>\n",
       "      <td>Bagging Meta-estimator</td>\n",
       "      <td>0.893333</td>\n",
       "      <td>0.893333</td>\n",
       "      <td>0.893333</td>\n",
       "      <td>0.893333</td>\n",
       "    </tr>\n",
       "    <tr>\n",
       "      <th>1</th>\n",
       "      <td>AdaBoost</td>\n",
       "      <td>0.84</td>\n",
       "      <td>0.84</td>\n",
       "      <td>0.84</td>\n",
       "      <td>0.84</td>\n",
       "    </tr>\n",
       "    <tr>\n",
       "      <th>2</th>\n",
       "      <td>XGBM</td>\n",
       "      <td>0.933333</td>\n",
       "      <td>0.933333</td>\n",
       "      <td>0.933333</td>\n",
       "      <td>0.933333</td>\n",
       "    </tr>\n",
       "    <tr>\n",
       "      <th>3</th>\n",
       "      <td>Naive Bayes</td>\n",
       "      <td>0.853554</td>\n",
       "      <td>0.856635</td>\n",
       "      <td>0.88</td>\n",
       "      <td>0.852425</td>\n",
       "    </tr>\n",
       "    <tr>\n",
       "      <th>4</th>\n",
       "      <td>Random Forest</td>\n",
       "      <td>0.900839</td>\n",
       "      <td>0.876243</td>\n",
       "      <td>0.893333</td>\n",
       "      <td>0.885156</td>\n",
       "    </tr>\n",
       "  </tbody>\n",
       "</table>\n",
       "</div>"
      ],
      "text/plain": [
       "                    Model Precision Score Recall Score Accuracy Score  \\\n",
       "0  Bagging Meta-estimator        0.893333     0.893333       0.893333   \n",
       "1                AdaBoost            0.84         0.84           0.84   \n",
       "2                    XGBM        0.933333     0.933333       0.933333   \n",
       "3             Naive Bayes        0.853554     0.856635           0.88   \n",
       "4           Random Forest        0.900839     0.876243       0.893333   \n",
       "\n",
       "   f1-score  \n",
       "0  0.893333  \n",
       "1      0.84  \n",
       "2  0.933333  \n",
       "3  0.852425  \n",
       "4  0.885156  "
      ]
     },
     "execution_count": 164,
     "metadata": {},
     "output_type": "execute_result"
    }
   ],
   "source": [
    "Random_Forest = pd.Series({'Model': \"Random Forest\",\n",
    "                 'Precision Score': metrics.precision_score(y_test, y_pred_rf,average=\"macro\"),\n",
    "                 'Recall Score': metrics.recall_score(y_test, y_pred_rf ,average=\"macro\"),\n",
    "                 'Accuracy Score': metrics.accuracy_score(y_test, y_pred_rf),\n",
    "                  'f1-score':metrics.f1_score(y_test, y_pred_rf, average = \"macro\")})\n",
    "\n",
    "result_Tab = result_Tab.append(Random_Forest , ignore_index = True)\n",
    "result_Tab"
   ]
  },
  {
   "cell_type": "markdown",
   "id": "73c586d8",
   "metadata": {},
   "source": [
    "## 9. Model Comparison"
   ]
  },
  {
   "cell_type": "markdown",
   "id": "31ffb6a7",
   "metadata": {},
   "source": [
    "Comparing the performance measures of all the Classification models build:\n",
    "* Bagging Meta-Estimator\n",
    "* AdaBoost\n",
    "* XGBoost\n",
    "* Naive Bayes\n",
    "* Random Forest"
   ]
  },
  {
   "cell_type": "code",
   "execution_count": 165,
   "id": "6c3bc0f7",
   "metadata": {},
   "outputs": [
    {
     "data": {
      "text/html": [
       "<div>\n",
       "<style scoped>\n",
       "    .dataframe tbody tr th:only-of-type {\n",
       "        vertical-align: middle;\n",
       "    }\n",
       "\n",
       "    .dataframe tbody tr th {\n",
       "        vertical-align: top;\n",
       "    }\n",
       "\n",
       "    .dataframe thead th {\n",
       "        text-align: right;\n",
       "    }\n",
       "</style>\n",
       "<table border=\"1\" class=\"dataframe\">\n",
       "  <thead>\n",
       "    <tr style=\"text-align: right;\">\n",
       "      <th></th>\n",
       "      <th>Model</th>\n",
       "      <th>Precision Score</th>\n",
       "      <th>Recall Score</th>\n",
       "      <th>Accuracy Score</th>\n",
       "      <th>f1-score</th>\n",
       "    </tr>\n",
       "  </thead>\n",
       "  <tbody>\n",
       "    <tr>\n",
       "      <th>0</th>\n",
       "      <td>Bagging Meta-estimator</td>\n",
       "      <td>0.893333</td>\n",
       "      <td>0.893333</td>\n",
       "      <td>0.893333</td>\n",
       "      <td>0.893333</td>\n",
       "    </tr>\n",
       "    <tr>\n",
       "      <th>1</th>\n",
       "      <td>AdaBoost</td>\n",
       "      <td>0.84</td>\n",
       "      <td>0.84</td>\n",
       "      <td>0.84</td>\n",
       "      <td>0.84</td>\n",
       "    </tr>\n",
       "    <tr>\n",
       "      <th>2</th>\n",
       "      <td>XGBM</td>\n",
       "      <td>0.933333</td>\n",
       "      <td>0.933333</td>\n",
       "      <td>0.933333</td>\n",
       "      <td>0.933333</td>\n",
       "    </tr>\n",
       "    <tr>\n",
       "      <th>3</th>\n",
       "      <td>Naive Bayes</td>\n",
       "      <td>0.853554</td>\n",
       "      <td>0.856635</td>\n",
       "      <td>0.88</td>\n",
       "      <td>0.852425</td>\n",
       "    </tr>\n",
       "    <tr>\n",
       "      <th>4</th>\n",
       "      <td>Random Forest</td>\n",
       "      <td>0.900839</td>\n",
       "      <td>0.876243</td>\n",
       "      <td>0.893333</td>\n",
       "      <td>0.885156</td>\n",
       "    </tr>\n",
       "  </tbody>\n",
       "</table>\n",
       "</div>"
      ],
      "text/plain": [
       "                    Model Precision Score Recall Score Accuracy Score  \\\n",
       "0  Bagging Meta-estimator        0.893333     0.893333       0.893333   \n",
       "1                AdaBoost            0.84         0.84           0.84   \n",
       "2                    XGBM        0.933333     0.933333       0.933333   \n",
       "3             Naive Bayes        0.853554     0.856635           0.88   \n",
       "4           Random Forest        0.900839     0.876243       0.893333   \n",
       "\n",
       "   f1-score  \n",
       "0  0.893333  \n",
       "1      0.84  \n",
       "2  0.933333  \n",
       "3  0.852425  \n",
       "4  0.885156  "
      ]
     },
     "execution_count": 165,
     "metadata": {},
     "output_type": "execute_result"
    }
   ],
   "source": [
    "result_Tab"
   ]
  },
  {
   "cell_type": "markdown",
   "id": "0ea981d0",
   "metadata": {},
   "source": [
    "## 10. Conclusion"
   ]
  },
  {
   "cell_type": "markdown",
   "id": "1bbcdaf0",
   "metadata": {},
   "source": [
    "* From the tabulated results, it is observed that 'XGBoost' model has the highest performance measures when compare to the other models.\n",
    "* Hence we can conclude that 'XGBoost' is the best among all the other models built."
   ]
  },
  {
   "cell_type": "code",
   "execution_count": null,
   "id": "77b80503",
   "metadata": {},
   "outputs": [],
   "source": []
  }
 ],
 "metadata": {
  "kernelspec": {
   "display_name": "Python 3 (ipykernel)",
   "language": "python",
   "name": "python3"
  },
  "language_info": {
   "codemirror_mode": {
    "name": "ipython",
    "version": 3
   },
   "file_extension": ".py",
   "mimetype": "text/x-python",
   "name": "python",
   "nbconvert_exporter": "python",
   "pygments_lexer": "ipython3",
   "version": "3.9.12"
  }
 },
 "nbformat": 4,
 "nbformat_minor": 5
}
